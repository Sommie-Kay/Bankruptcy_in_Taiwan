{
 "cells": [
  {
   "cell_type": "markdown",
   "id": "e3fc9953-c5d0-409b-ac1b-8e75bcd98974",
   "metadata": {},
   "source": [
    "# Working with JSON files"
   ]
  },
  {
   "cell_type": "markdown",
   "id": "151a4a64-ae8e-4273-86c5-514c3c2c2594",
   "metadata": {},
   "source": [
    "In this project, we'll be looking at tracking corporate bankruptcies in Taiwan. To do that, we'll need to get data that's been stored in a JSON file, explore it, and turn it into a DataFrame that we'll use to train our model."
   ]
  },
  {
   "cell_type": "code",
   "execution_count": 1,
   "id": "ed6dc7c7-1575-4ad8-b139-7d7de852b6fb",
   "metadata": {},
   "outputs": [],
   "source": [
    "import gzip\n",
    "import json\n",
    "\n",
    "import pandas as pd"
   ]
  },
  {
   "cell_type": "markdown",
   "id": "33ac2420-86c9-499e-9f79-c918d95d6d4f",
   "metadata": {},
   "source": [
    "# Prepare Data"
   ]
  },
  {
   "cell_type": "markdown",
   "id": "9da68332-f734-476e-b506-627ab34c0955",
   "metadata": {},
   "source": [
    "## Open"
   ]
  },
  {
   "cell_type": "markdown",
   "id": "02ffc7cd-4366-4af2-a736-3f711eea26d1",
   "metadata": {},
   "source": [
    "The file we're using for this project is compressed, so we'll need to use a file utility called gzip to open it up."
   ]
  },
  {
   "cell_type": "code",
   "execution_count": 2,
   "id": "ed278baa-fdc9-412d-baf1-d1de72e5d2e1",
   "metadata": {},
   "outputs": [],
   "source": [
    "%%bash\n",
    "\n",
    "cd data\n",
    "gzip -dkf taiwan-bankruptcy-data.json.gz"
   ]
  },
  {
   "cell_type": "markdown",
   "id": "906d93a0-b734-4f6e-80d1-60c872fc3642",
   "metadata": {},
   "source": [
    " Using a context manager, I'll  open the file and load it as a dictionary with the variable name taiwan_data"
   ]
  },
  {
   "cell_type": "code",
   "execution_count": 3,
   "id": "c4df13bb-06f0-40fe-8a29-2ddb8b3c74ab",
   "metadata": {},
   "outputs": [
    {
     "name": "stdout",
     "output_type": "stream",
     "text": [
      "<class 'dict'>\n"
     ]
    }
   ],
   "source": [
    "# Load data file\n",
    "with gzip.open(\"data/taiwan-bankruptcy-data.json.gz\", \"r\") as read_file:\n",
    "    taiwan_data = json.load(read_file)\n",
    "\n",
    "print(type(taiwan_data))"
   ]
  },
  {
   "cell_type": "markdown",
   "id": "f78263e8-3bfc-41c1-9f69-a1ce1518cd49",
   "metadata": {},
   "source": [
    "# Explore"
   ]
  },
  {
   "cell_type": "markdown",
   "id": "6ab84912-6df8-47e1-8b7d-ca0aaba46f39",
   "metadata": {},
   "source": [
    "Okay! Now that we've successfully opened up our dataset, let's take a look and see what's there, starting with the keys. Remember, the keys in a dictionary are categories of things in a dataset."
   ]
  },
  {
   "cell_type": "code",
   "execution_count": 4,
   "id": "3f75866c-0f43-4c96-9975-b897067c6d93",
   "metadata": {},
   "outputs": [
    {
     "name": "stdout",
     "output_type": "stream",
     "text": [
      "dict_keys(['schema', 'metadata', 'observations'])\n"
     ]
    }
   ],
   "source": [
    "taiwan_data_keys = taiwan_data.keys()\n",
    "print(taiwan_data_keys)"
   ]
  },
  {
   "cell_type": "markdown",
   "id": "68542270-9c56-42e2-933d-05df0fe88eda",
   "metadata": {},
   "source": [
    "schema is the formal description of the structure and constraints of a dataset, metadata tells us where the data comes from, and observations is the data itself"
   ]
  },
  {
   "cell_type": "markdown",
   "id": "045782d4-ef0d-49c0-876b-65fd040b7623",
   "metadata": {},
   "source": [
    "Now let's take a look at the values. Remember, the values in a dictionary are ways to describe the variable that belongs to a key."
   ]
  },
  {
   "cell_type": "code",
   "execution_count": 5,
   "id": "b7a9bc07-dc61-4a25-80f7-98fcf08f8a29",
   "metadata": {},
   "outputs": [
    {
     "data": {
      "text/plain": [
       "{'title': 'Financial ratios and corporate governance indicators in bankruptcy prediction: A comprehensive study',\n",
       " 'authors': 'Deron Liang, Chia-Chi Lu, Chih-Fong Tsai, Guan-An Shih',\n",
       " 'journal': 'European Journal of Operational Research',\n",
       " 'publicationYear': 2016,\n",
       " 'articleLink': 'https://doi.org/10.1016/j.ejor.2016.01.012',\n",
       " 'datasetLink': 'https://archive.ics.uci.edu/ml/datasets/Taiwanese+Bankruptcy+Prediction'}"
      ]
     },
     "execution_count": 5,
     "metadata": {},
     "output_type": "execute_result"
    }
   ],
   "source": [
    "# more exploration\n",
    "taiwan_data[\"metadata\"]"
   ]
  },
  {
   "cell_type": "code",
   "execution_count": 7,
   "id": "b76149e5-a379-4882-b52f-c03dae23a6c6",
   "metadata": {},
   "outputs": [
    {
     "data": {
      "text/plain": [
       "dict_keys(['fields', 'primaryKey', 'pandas_version'])"
      ]
     },
     "execution_count": 7,
     "metadata": {},
     "output_type": "execute_result"
    }
   ],
   "source": [
    "# More exploration\n",
    "taiwan_data[\"schema\"].keys()"
   ]
  },
  {
   "cell_type": "code",
   "execution_count": 11,
   "id": "5c7dc175-492a-4649-a7ac-7461df85aa1d",
   "metadata": {},
   "outputs": [
    {
     "data": {
      "text/plain": [
       "{'id': 1,\n",
       " 'bankrupt': True,\n",
       " 'feat_1': 0.3705942573,\n",
       " 'feat_2': 0.4243894461,\n",
       " 'feat_3': 0.4057497725,\n",
       " 'feat_4': 0.6014572133,\n",
       " 'feat_5': 0.6014572133,\n",
       " 'feat_6': 0.9989692032,\n",
       " 'feat_7': 0.7968871459,\n",
       " 'feat_8': 0.8088093609,\n",
       " 'feat_9': 0.3026464339,\n",
       " 'feat_10': 0.7809848502,\n",
       " 'feat_11': 0.0001256969,\n",
       " 'feat_12': 0.0,\n",
       " 'feat_13': 0.4581431435,\n",
       " 'feat_14': 0.0007250725,\n",
       " 'feat_15': 0.0,\n",
       " 'feat_16': 0.1479499389,\n",
       " 'feat_17': 0.1479499389,\n",
       " 'feat_18': 0.1479499389,\n",
       " 'feat_19': 0.1691405881,\n",
       " 'feat_20': 0.3116644267,\n",
       " 'feat_21': 0.0175597804,\n",
       " 'feat_22': 0.0959205276,\n",
       " 'feat_23': 0.1387361603,\n",
       " 'feat_24': 0.0221022784,\n",
       " 'feat_25': 0.8481949945,\n",
       " 'feat_26': 0.6889794628,\n",
       " 'feat_27': 0.6889794628,\n",
       " 'feat_28': 0.2175353862,\n",
       " 'feat_29': 4980000000.0,\n",
       " 'feat_30': 0.0003269773,\n",
       " 'feat_31': 0.2630999837,\n",
       " 'feat_32': 0.363725271,\n",
       " 'feat_33': 0.0022589633,\n",
       " 'feat_34': 0.0012077551,\n",
       " 'feat_35': 0.629951302,\n",
       " 'feat_36': 0.0212659244,\n",
       " 'feat_37': 0.2075762615,\n",
       " 'feat_38': 0.7924237385,\n",
       " 'feat_39': 0.0050244547,\n",
       " 'feat_40': 0.3902843544,\n",
       " 'feat_41': 0.0064785025,\n",
       " 'feat_42': 0.095884834,\n",
       " 'feat_43': 0.1377573335,\n",
       " 'feat_44': 0.3980356983,\n",
       " 'feat_45': 0.0869565217,\n",
       " 'feat_46': 0.0018138841,\n",
       " 'feat_47': 0.0034873643,\n",
       " 'feat_48': 0.0001820926,\n",
       " 'feat_49': 0.0001165007,\n",
       " 'feat_50': 0.0329032258,\n",
       " 'feat_51': 0.034164182,\n",
       " 'feat_52': 0.3929128695,\n",
       " 'feat_53': 0.0371353016,\n",
       " 'feat_54': 0.6727752925,\n",
       " 'feat_55': 0.1666729588,\n",
       " 'feat_56': 0.1906429591,\n",
       " 'feat_57': 0.004094406,\n",
       " 'feat_58': 0.0019967709,\n",
       " 'feat_59': 0.000147336,\n",
       " 'feat_60': 0.1473084504,\n",
       " 'feat_61': 0.3340151713,\n",
       " 'feat_62': 0.2769201582,\n",
       " 'feat_63': 0.00103599,\n",
       " 'feat_64': 0.6762691762,\n",
       " 'feat_65': 0.7212745515,\n",
       " 'feat_66': 0.3390770068,\n",
       " 'feat_67': 0.025592368,\n",
       " 'feat_68': 0.9032247712,\n",
       " 'feat_69': 0.002021613,\n",
       " 'feat_70': 0.0648557077,\n",
       " 'feat_71': 701000000.0,\n",
       " 'feat_72': 6550000000.0,\n",
       " 'feat_73': 0.593830504,\n",
       " 'feat_74': 458000000.0,\n",
       " 'feat_75': 0.6715676536,\n",
       " 'feat_76': 0.4242057622,\n",
       " 'feat_77': 0.6762691762,\n",
       " 'feat_78': 0.3390770068,\n",
       " 'feat_79': 0.1265494878,\n",
       " 'feat_80': 0.6375553953,\n",
       " 'feat_81': 0.4586091477,\n",
       " 'feat_82': 0.5203819179,\n",
       " 'feat_83': 0.3129049481,\n",
       " 'feat_84': 0.1182504766,\n",
       " 'feat_85': 0,\n",
       " 'feat_86': 0.7168453432,\n",
       " 'feat_87': 0.00921944,\n",
       " 'feat_88': 0.6228789594,\n",
       " 'feat_89': 0.6014532901,\n",
       " 'feat_90': 0.827890214,\n",
       " 'feat_91': 0.2902018928,\n",
       " 'feat_92': 0.0266006308,\n",
       " 'feat_93': 0.5640501123,\n",
       " 'feat_94': 1,\n",
       " 'feat_95': 0.0164687409}"
      ]
     },
     "execution_count": 11,
     "metadata": {},
     "output_type": "execute_result"
    }
   ],
   "source": [
    "# More exploration\n",
    "taiwan_data[\"observations\"][0]"
   ]
  },
  {
   "cell_type": "markdown",
   "id": "e0111260-517f-4cb5-8aea-955ea991eff3",
   "metadata": {},
   "source": [
    "Now let's  Calculate the number of companies included in the dataset."
   ]
  },
  {
   "cell_type": "code",
   "execution_count": 12,
   "id": "8d158f6d-b1c5-42d7-9f8c-1797913e6047",
   "metadata": {},
   "outputs": [
    {
     "name": "stdout",
     "output_type": "stream",
     "text": [
      "6137\n"
     ]
    }
   ],
   "source": [
    "n_companies = len(taiwan_data[\"observations\"])\n",
    "print(n_companies)"
   ]
  },
  {
   "cell_type": "markdown",
   "id": "531b8050-1c20-4acb-b82f-d497341086b8",
   "metadata": {},
   "source": [
    "Next I'll Calculate the number of features associated with each company and assign the result to n_features"
   ]
  },
  {
   "cell_type": "code",
   "execution_count": 14,
   "id": "a7cd840d-3616-4569-a025-6d05ded38124",
   "metadata": {},
   "outputs": [
    {
     "name": "stdout",
     "output_type": "stream",
     "text": [
      "97\n"
     ]
    }
   ],
   "source": [
    "n_features = len(taiwan_data[\"observations\"][0])\n",
    "print(n_features)"
   ]
  },
  {
   "cell_type": "markdown",
   "id": "e5583fc7-edac-40a5-b833-4862a6337df3",
   "metadata": {},
   "source": [
    "Since we're dealing with data stored in a JSON file, which is common for semi-structured data, we can't assume that all companies have the same features. So let's check!"
   ]
  },
  {
   "cell_type": "code",
   "execution_count": 16,
   "id": "4cf5fe0a-efe8-4a68-a864-651926f6bea6",
   "metadata": {},
   "outputs": [
    {
     "name": "stdout",
     "output_type": "stream",
     "text": [
      "EVERYTHING IS IN ORDER!!!\n"
     ]
    }
   ],
   "source": [
    "for items in taiwan_data[\"observations\"]:\n",
    "    if len(items) != 97:\n",
    "        print(\"ALERT!!!\")\n",
    "else:\n",
    "    print(\"EVERYTHING IS IN ORDER!!!\")"
   ]
  },
  {
   "cell_type": "markdown",
   "id": "58119a4d-8551-46b1-9650-d086eabaf847",
   "metadata": {},
   "source": [
    "Next I'll Create a DataFrame df that contains the all companies in the dataset, indexed by \"id\"."
   ]
  },
  {
   "cell_type": "code",
   "execution_count": 18,
   "id": "589bee0f-e777-4e07-a9b9-1fc3c3db792a",
   "metadata": {},
   "outputs": [
    {
     "name": "stdout",
     "output_type": "stream",
     "text": [
      "(6137, 96)\n"
     ]
    },
    {
     "data": {
      "text/html": [
       "<div>\n",
       "<style scoped>\n",
       "    .dataframe tbody tr th:only-of-type {\n",
       "        vertical-align: middle;\n",
       "    }\n",
       "\n",
       "    .dataframe tbody tr th {\n",
       "        vertical-align: top;\n",
       "    }\n",
       "\n",
       "    .dataframe thead th {\n",
       "        text-align: right;\n",
       "    }\n",
       "</style>\n",
       "<table border=\"1\" class=\"dataframe\">\n",
       "  <thead>\n",
       "    <tr style=\"text-align: right;\">\n",
       "      <th></th>\n",
       "      <th>bankrupt</th>\n",
       "      <th>feat_1</th>\n",
       "      <th>feat_2</th>\n",
       "      <th>feat_3</th>\n",
       "      <th>feat_4</th>\n",
       "      <th>feat_5</th>\n",
       "      <th>feat_6</th>\n",
       "      <th>feat_7</th>\n",
       "      <th>feat_8</th>\n",
       "      <th>feat_9</th>\n",
       "      <th>...</th>\n",
       "      <th>feat_86</th>\n",
       "      <th>feat_87</th>\n",
       "      <th>feat_88</th>\n",
       "      <th>feat_89</th>\n",
       "      <th>feat_90</th>\n",
       "      <th>feat_91</th>\n",
       "      <th>feat_92</th>\n",
       "      <th>feat_93</th>\n",
       "      <th>feat_94</th>\n",
       "      <th>feat_95</th>\n",
       "    </tr>\n",
       "    <tr>\n",
       "      <th>id</th>\n",
       "      <th></th>\n",
       "      <th></th>\n",
       "      <th></th>\n",
       "      <th></th>\n",
       "      <th></th>\n",
       "      <th></th>\n",
       "      <th></th>\n",
       "      <th></th>\n",
       "      <th></th>\n",
       "      <th></th>\n",
       "      <th></th>\n",
       "      <th></th>\n",
       "      <th></th>\n",
       "      <th></th>\n",
       "      <th></th>\n",
       "      <th></th>\n",
       "      <th></th>\n",
       "      <th></th>\n",
       "      <th></th>\n",
       "      <th></th>\n",
       "      <th></th>\n",
       "    </tr>\n",
       "  </thead>\n",
       "  <tbody>\n",
       "    <tr>\n",
       "      <th>1</th>\n",
       "      <td>True</td>\n",
       "      <td>0.370594</td>\n",
       "      <td>0.424389</td>\n",
       "      <td>0.405750</td>\n",
       "      <td>0.601457</td>\n",
       "      <td>0.601457</td>\n",
       "      <td>0.998969</td>\n",
       "      <td>0.796887</td>\n",
       "      <td>0.808809</td>\n",
       "      <td>0.302646</td>\n",
       "      <td>...</td>\n",
       "      <td>0.716845</td>\n",
       "      <td>0.009219</td>\n",
       "      <td>0.622879</td>\n",
       "      <td>0.601453</td>\n",
       "      <td>0.827890</td>\n",
       "      <td>0.290202</td>\n",
       "      <td>0.026601</td>\n",
       "      <td>0.564050</td>\n",
       "      <td>1</td>\n",
       "      <td>0.016469</td>\n",
       "    </tr>\n",
       "    <tr>\n",
       "      <th>2</th>\n",
       "      <td>True</td>\n",
       "      <td>0.464291</td>\n",
       "      <td>0.538214</td>\n",
       "      <td>0.516730</td>\n",
       "      <td>0.610235</td>\n",
       "      <td>0.610235</td>\n",
       "      <td>0.998946</td>\n",
       "      <td>0.797380</td>\n",
       "      <td>0.809301</td>\n",
       "      <td>0.303556</td>\n",
       "      <td>...</td>\n",
       "      <td>0.795297</td>\n",
       "      <td>0.008323</td>\n",
       "      <td>0.623652</td>\n",
       "      <td>0.610237</td>\n",
       "      <td>0.839969</td>\n",
       "      <td>0.283846</td>\n",
       "      <td>0.264577</td>\n",
       "      <td>0.570175</td>\n",
       "      <td>1</td>\n",
       "      <td>0.020794</td>\n",
       "    </tr>\n",
       "    <tr>\n",
       "      <th>3</th>\n",
       "      <td>True</td>\n",
       "      <td>0.426071</td>\n",
       "      <td>0.499019</td>\n",
       "      <td>0.472295</td>\n",
       "      <td>0.601450</td>\n",
       "      <td>0.601364</td>\n",
       "      <td>0.998857</td>\n",
       "      <td>0.796403</td>\n",
       "      <td>0.808388</td>\n",
       "      <td>0.302035</td>\n",
       "      <td>...</td>\n",
       "      <td>0.774670</td>\n",
       "      <td>0.040003</td>\n",
       "      <td>0.623841</td>\n",
       "      <td>0.601449</td>\n",
       "      <td>0.836774</td>\n",
       "      <td>0.290189</td>\n",
       "      <td>0.026555</td>\n",
       "      <td>0.563706</td>\n",
       "      <td>1</td>\n",
       "      <td>0.016474</td>\n",
       "    </tr>\n",
       "    <tr>\n",
       "      <th>4</th>\n",
       "      <td>True</td>\n",
       "      <td>0.399844</td>\n",
       "      <td>0.451265</td>\n",
       "      <td>0.457733</td>\n",
       "      <td>0.583541</td>\n",
       "      <td>0.583541</td>\n",
       "      <td>0.998700</td>\n",
       "      <td>0.796967</td>\n",
       "      <td>0.808966</td>\n",
       "      <td>0.303350</td>\n",
       "      <td>...</td>\n",
       "      <td>0.739555</td>\n",
       "      <td>0.003252</td>\n",
       "      <td>0.622929</td>\n",
       "      <td>0.583538</td>\n",
       "      <td>0.834697</td>\n",
       "      <td>0.281721</td>\n",
       "      <td>0.026697</td>\n",
       "      <td>0.564663</td>\n",
       "      <td>1</td>\n",
       "      <td>0.023982</td>\n",
       "    </tr>\n",
       "    <tr>\n",
       "      <th>5</th>\n",
       "      <td>True</td>\n",
       "      <td>0.465022</td>\n",
       "      <td>0.538432</td>\n",
       "      <td>0.522298</td>\n",
       "      <td>0.598783</td>\n",
       "      <td>0.598783</td>\n",
       "      <td>0.998973</td>\n",
       "      <td>0.797366</td>\n",
       "      <td>0.809304</td>\n",
       "      <td>0.303475</td>\n",
       "      <td>...</td>\n",
       "      <td>0.795016</td>\n",
       "      <td>0.003878</td>\n",
       "      <td>0.623521</td>\n",
       "      <td>0.598782</td>\n",
       "      <td>0.839973</td>\n",
       "      <td>0.278514</td>\n",
       "      <td>0.024752</td>\n",
       "      <td>0.575617</td>\n",
       "      <td>1</td>\n",
       "      <td>0.035490</td>\n",
       "    </tr>\n",
       "  </tbody>\n",
       "</table>\n",
       "<p>5 rows × 96 columns</p>\n",
       "</div>"
      ],
      "text/plain": [
       "    bankrupt    feat_1    feat_2    feat_3    feat_4    feat_5    feat_6  \\\n",
       "id                                                                         \n",
       "1       True  0.370594  0.424389  0.405750  0.601457  0.601457  0.998969   \n",
       "2       True  0.464291  0.538214  0.516730  0.610235  0.610235  0.998946   \n",
       "3       True  0.426071  0.499019  0.472295  0.601450  0.601364  0.998857   \n",
       "4       True  0.399844  0.451265  0.457733  0.583541  0.583541  0.998700   \n",
       "5       True  0.465022  0.538432  0.522298  0.598783  0.598783  0.998973   \n",
       "\n",
       "      feat_7    feat_8    feat_9  ...   feat_86   feat_87   feat_88   feat_89  \\\n",
       "id                                ...                                           \n",
       "1   0.796887  0.808809  0.302646  ...  0.716845  0.009219  0.622879  0.601453   \n",
       "2   0.797380  0.809301  0.303556  ...  0.795297  0.008323  0.623652  0.610237   \n",
       "3   0.796403  0.808388  0.302035  ...  0.774670  0.040003  0.623841  0.601449   \n",
       "4   0.796967  0.808966  0.303350  ...  0.739555  0.003252  0.622929  0.583538   \n",
       "5   0.797366  0.809304  0.303475  ...  0.795016  0.003878  0.623521  0.598782   \n",
       "\n",
       "     feat_90   feat_91   feat_92   feat_93  feat_94   feat_95  \n",
       "id                                                             \n",
       "1   0.827890  0.290202  0.026601  0.564050        1  0.016469  \n",
       "2   0.839969  0.283846  0.264577  0.570175        1  0.020794  \n",
       "3   0.836774  0.290189  0.026555  0.563706        1  0.016474  \n",
       "4   0.834697  0.281721  0.026697  0.564663        1  0.023982  \n",
       "5   0.839973  0.278514  0.024752  0.575617        1  0.035490  \n",
       "\n",
       "[5 rows x 96 columns]"
      ]
     },
     "execution_count": 18,
     "metadata": {},
     "output_type": "execute_result"
    }
   ],
   "source": [
    "# Create a DataFrame from a dictionary in pandas.\n",
    "df = pd.DataFrame().from_dict(taiwan_data[\"observations\"]).set_index(\"id\")\n",
    "print(df.shape)\n",
    "df.head()"
   ]
  },
  {
   "cell_type": "markdown",
   "id": "2360a493-f252-4b84-8dc1-85ae21fb0fb2",
   "metadata": {},
   "source": [
    "Next I'll Create a wrangle function that takes as input the path of a compressed JSON file and returns the file's contents as a DataFrame."
   ]
  },
  {
   "cell_type": "code",
   "execution_count": 19,
   "id": "a3ac96ae-034d-4661-ad15-41cfa8fbb7bd",
   "metadata": {},
   "outputs": [],
   "source": [
    "# Create wrangle function\n",
    "def wrangle(filename):\n",
    "    # open compressed file,load into dict\n",
    "    with gzip.open(filename,\"r\") as f:\n",
    "        data = json.load(f)\n",
    "        \n",
    "    # turn dict into dataframe\n",
    "    df = pd.DataFrame().from_dict(data[\"observations\"]).set_index(\"id\")\n",
    "    \n",
    "    return df"
   ]
  },
  {
   "cell_type": "code",
   "execution_count": 20,
   "id": "aea47739-0299-4f05-9224-0b10b73d23fd",
   "metadata": {},
   "outputs": [
    {
     "name": "stdout",
     "output_type": "stream",
     "text": [
      "df shape: (6137, 96)\n"
     ]
    },
    {
     "data": {
      "text/html": [
       "<div>\n",
       "<style scoped>\n",
       "    .dataframe tbody tr th:only-of-type {\n",
       "        vertical-align: middle;\n",
       "    }\n",
       "\n",
       "    .dataframe tbody tr th {\n",
       "        vertical-align: top;\n",
       "    }\n",
       "\n",
       "    .dataframe thead th {\n",
       "        text-align: right;\n",
       "    }\n",
       "</style>\n",
       "<table border=\"1\" class=\"dataframe\">\n",
       "  <thead>\n",
       "    <tr style=\"text-align: right;\">\n",
       "      <th></th>\n",
       "      <th>bankrupt</th>\n",
       "      <th>feat_1</th>\n",
       "      <th>feat_2</th>\n",
       "      <th>feat_3</th>\n",
       "      <th>feat_4</th>\n",
       "      <th>feat_5</th>\n",
       "      <th>feat_6</th>\n",
       "      <th>feat_7</th>\n",
       "      <th>feat_8</th>\n",
       "      <th>feat_9</th>\n",
       "      <th>...</th>\n",
       "      <th>feat_86</th>\n",
       "      <th>feat_87</th>\n",
       "      <th>feat_88</th>\n",
       "      <th>feat_89</th>\n",
       "      <th>feat_90</th>\n",
       "      <th>feat_91</th>\n",
       "      <th>feat_92</th>\n",
       "      <th>feat_93</th>\n",
       "      <th>feat_94</th>\n",
       "      <th>feat_95</th>\n",
       "    </tr>\n",
       "    <tr>\n",
       "      <th>id</th>\n",
       "      <th></th>\n",
       "      <th></th>\n",
       "      <th></th>\n",
       "      <th></th>\n",
       "      <th></th>\n",
       "      <th></th>\n",
       "      <th></th>\n",
       "      <th></th>\n",
       "      <th></th>\n",
       "      <th></th>\n",
       "      <th></th>\n",
       "      <th></th>\n",
       "      <th></th>\n",
       "      <th></th>\n",
       "      <th></th>\n",
       "      <th></th>\n",
       "      <th></th>\n",
       "      <th></th>\n",
       "      <th></th>\n",
       "      <th></th>\n",
       "      <th></th>\n",
       "    </tr>\n",
       "  </thead>\n",
       "  <tbody>\n",
       "    <tr>\n",
       "      <th>1</th>\n",
       "      <td>True</td>\n",
       "      <td>0.370594</td>\n",
       "      <td>0.424389</td>\n",
       "      <td>0.405750</td>\n",
       "      <td>0.601457</td>\n",
       "      <td>0.601457</td>\n",
       "      <td>0.998969</td>\n",
       "      <td>0.796887</td>\n",
       "      <td>0.808809</td>\n",
       "      <td>0.302646</td>\n",
       "      <td>...</td>\n",
       "      <td>0.716845</td>\n",
       "      <td>0.009219</td>\n",
       "      <td>0.622879</td>\n",
       "      <td>0.601453</td>\n",
       "      <td>0.827890</td>\n",
       "      <td>0.290202</td>\n",
       "      <td>0.026601</td>\n",
       "      <td>0.564050</td>\n",
       "      <td>1</td>\n",
       "      <td>0.016469</td>\n",
       "    </tr>\n",
       "    <tr>\n",
       "      <th>2</th>\n",
       "      <td>True</td>\n",
       "      <td>0.464291</td>\n",
       "      <td>0.538214</td>\n",
       "      <td>0.516730</td>\n",
       "      <td>0.610235</td>\n",
       "      <td>0.610235</td>\n",
       "      <td>0.998946</td>\n",
       "      <td>0.797380</td>\n",
       "      <td>0.809301</td>\n",
       "      <td>0.303556</td>\n",
       "      <td>...</td>\n",
       "      <td>0.795297</td>\n",
       "      <td>0.008323</td>\n",
       "      <td>0.623652</td>\n",
       "      <td>0.610237</td>\n",
       "      <td>0.839969</td>\n",
       "      <td>0.283846</td>\n",
       "      <td>0.264577</td>\n",
       "      <td>0.570175</td>\n",
       "      <td>1</td>\n",
       "      <td>0.020794</td>\n",
       "    </tr>\n",
       "    <tr>\n",
       "      <th>3</th>\n",
       "      <td>True</td>\n",
       "      <td>0.426071</td>\n",
       "      <td>0.499019</td>\n",
       "      <td>0.472295</td>\n",
       "      <td>0.601450</td>\n",
       "      <td>0.601364</td>\n",
       "      <td>0.998857</td>\n",
       "      <td>0.796403</td>\n",
       "      <td>0.808388</td>\n",
       "      <td>0.302035</td>\n",
       "      <td>...</td>\n",
       "      <td>0.774670</td>\n",
       "      <td>0.040003</td>\n",
       "      <td>0.623841</td>\n",
       "      <td>0.601449</td>\n",
       "      <td>0.836774</td>\n",
       "      <td>0.290189</td>\n",
       "      <td>0.026555</td>\n",
       "      <td>0.563706</td>\n",
       "      <td>1</td>\n",
       "      <td>0.016474</td>\n",
       "    </tr>\n",
       "    <tr>\n",
       "      <th>4</th>\n",
       "      <td>True</td>\n",
       "      <td>0.399844</td>\n",
       "      <td>0.451265</td>\n",
       "      <td>0.457733</td>\n",
       "      <td>0.583541</td>\n",
       "      <td>0.583541</td>\n",
       "      <td>0.998700</td>\n",
       "      <td>0.796967</td>\n",
       "      <td>0.808966</td>\n",
       "      <td>0.303350</td>\n",
       "      <td>...</td>\n",
       "      <td>0.739555</td>\n",
       "      <td>0.003252</td>\n",
       "      <td>0.622929</td>\n",
       "      <td>0.583538</td>\n",
       "      <td>0.834697</td>\n",
       "      <td>0.281721</td>\n",
       "      <td>0.026697</td>\n",
       "      <td>0.564663</td>\n",
       "      <td>1</td>\n",
       "      <td>0.023982</td>\n",
       "    </tr>\n",
       "    <tr>\n",
       "      <th>5</th>\n",
       "      <td>True</td>\n",
       "      <td>0.465022</td>\n",
       "      <td>0.538432</td>\n",
       "      <td>0.522298</td>\n",
       "      <td>0.598783</td>\n",
       "      <td>0.598783</td>\n",
       "      <td>0.998973</td>\n",
       "      <td>0.797366</td>\n",
       "      <td>0.809304</td>\n",
       "      <td>0.303475</td>\n",
       "      <td>...</td>\n",
       "      <td>0.795016</td>\n",
       "      <td>0.003878</td>\n",
       "      <td>0.623521</td>\n",
       "      <td>0.598782</td>\n",
       "      <td>0.839973</td>\n",
       "      <td>0.278514</td>\n",
       "      <td>0.024752</td>\n",
       "      <td>0.575617</td>\n",
       "      <td>1</td>\n",
       "      <td>0.035490</td>\n",
       "    </tr>\n",
       "  </tbody>\n",
       "</table>\n",
       "<p>5 rows × 96 columns</p>\n",
       "</div>"
      ],
      "text/plain": [
       "    bankrupt    feat_1    feat_2    feat_3    feat_4    feat_5    feat_6  \\\n",
       "id                                                                         \n",
       "1       True  0.370594  0.424389  0.405750  0.601457  0.601457  0.998969   \n",
       "2       True  0.464291  0.538214  0.516730  0.610235  0.610235  0.998946   \n",
       "3       True  0.426071  0.499019  0.472295  0.601450  0.601364  0.998857   \n",
       "4       True  0.399844  0.451265  0.457733  0.583541  0.583541  0.998700   \n",
       "5       True  0.465022  0.538432  0.522298  0.598783  0.598783  0.998973   \n",
       "\n",
       "      feat_7    feat_8    feat_9  ...   feat_86   feat_87   feat_88   feat_89  \\\n",
       "id                                ...                                           \n",
       "1   0.796887  0.808809  0.302646  ...  0.716845  0.009219  0.622879  0.601453   \n",
       "2   0.797380  0.809301  0.303556  ...  0.795297  0.008323  0.623652  0.610237   \n",
       "3   0.796403  0.808388  0.302035  ...  0.774670  0.040003  0.623841  0.601449   \n",
       "4   0.796967  0.808966  0.303350  ...  0.739555  0.003252  0.622929  0.583538   \n",
       "5   0.797366  0.809304  0.303475  ...  0.795016  0.003878  0.623521  0.598782   \n",
       "\n",
       "     feat_90   feat_91   feat_92   feat_93  feat_94   feat_95  \n",
       "id                                                             \n",
       "1   0.827890  0.290202  0.026601  0.564050        1  0.016469  \n",
       "2   0.839969  0.283846  0.264577  0.570175        1  0.020794  \n",
       "3   0.836774  0.290189  0.026555  0.563706        1  0.016474  \n",
       "4   0.834697  0.281721  0.026697  0.564663        1  0.023982  \n",
       "5   0.839973  0.278514  0.024752  0.575617        1  0.035490  \n",
       "\n",
       "[5 rows x 96 columns]"
      ]
     },
     "execution_count": 20,
     "metadata": {},
     "output_type": "execute_result"
    }
   ],
   "source": [
    "df = wrangle(\"data/taiwan-bankruptcy-data.json.gz\")\n",
    "print(\"df shape:\", df.shape)\n",
    "df.head()"
   ]
  },
  {
   "cell_type": "code",
   "execution_count": null,
   "id": "74d3d371-fd88-4808-9bcc-6f03c3f4e8f6",
   "metadata": {},
   "outputs": [],
   "source": []
  }
 ],
 "metadata": {
  "kernelspec": {
   "display_name": "Python 3 (ipykernel)",
   "language": "python",
   "name": "python3"
  },
  "language_info": {
   "codemirror_mode": {
    "name": "ipython",
    "version": 3
   },
   "file_extension": ".py",
   "mimetype": "text/x-python",
   "name": "python",
   "nbconvert_exporter": "python",
   "pygments_lexer": "ipython3",
   "version": "3.9.6"
  }
 },
 "nbformat": 4,
 "nbformat_minor": 5
}
