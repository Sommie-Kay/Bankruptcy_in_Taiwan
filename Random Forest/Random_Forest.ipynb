{
 "cells": [
  {
   "cell_type": "markdown",
   "id": "d48dcce8-c56b-4606-91e0-237a73c9bdff",
   "metadata": {},
   "source": [
    "# Ensemble Models: Random Forest (Predicting Bankruptcy in Taiwan)"
   ]
  },
  {
   "cell_type": "markdown",
   "id": "c0be2d54-483a-4848-8a8e-3e95ec23eb79",
   "metadata": {},
   "source": [
    "I saw in the previous note book (Decision_Tree) the performance of the decision tree model .Now I'll expand my decision tree model to a forest .The random forest is an example of an Ensemble model.\n",
    "\n",
    "An ensemble model is a machine learning technique where multiple models are combined to improve the overall accuracy and stability of my the prediction.\n",
    "\n",
    "Random Forest is a type of ensemble machine learning algorithm that combines multiple decision trees to improve the accuracy and stability of the prediction."
   ]
  },
  {
   "cell_type": "code",
   "execution_count": 1,
   "id": "df8da42e-4035-4ab6-8130-e6fcbbee6540",
   "metadata": {},
   "outputs": [],
   "source": [
    "import gzip\n",
    "import json\n",
    "import pickle\n",
    "\n",
    "import matplotlib.pyplot as plt\n",
    "import pandas as pd\n",
    "from imblearn.over_sampling import RandomOverSampler\n",
    "from sklearn.ensemble import RandomForestClassifier\n",
    "from sklearn.impute import SimpleImputer\n",
    "from sklearn.metrics import ConfusionMatrixDisplay\n",
    "from sklearn.model_selection import GridSearchCV, cross_val_score, train_test_split\n",
    "from sklearn.pipeline import make_pipeline\n"
   ]
  },
  {
   "cell_type": "markdown",
   "id": "9042d3a8-b9db-4899-ae9e-e40fa5289103",
   "metadata": {},
   "source": [
    "## Prepare Data"
   ]
  },
  {
   "cell_type": "markdown",
   "id": "6b815786-8eca-4361-83e0-621f2cad80d6",
   "metadata": {},
   "source": [
    "## Import"
   ]
  },
  {
   "cell_type": "code",
   "execution_count": 2,
   "id": "96954980-ea50-47d3-8cc1-fa81ed9ff9b2",
   "metadata": {},
   "outputs": [],
   "source": [
    "# import our wrangle functio created in the previous notebook\n",
    "# Create wrangle function\n",
    "def wrangle(filename):\n",
    "    # open compressed file,load into dict\n",
    "    with gzip.open(filename,\"r\") as f:\n",
    "        data = json.load(f)\n",
    "        \n",
    "    # turn dict into dataframe\n",
    "    df = pd.DataFrame().from_dict(data[\"observations\"]).set_index(\"id\")\n",
    "    \n",
    "    return df"
   ]
  },
  {
   "cell_type": "code",
   "execution_count": 3,
   "id": "f2f8886c-ef00-4cc1-b907-2b261909a470",
   "metadata": {},
   "outputs": [
    {
     "name": "stdout",
     "output_type": "stream",
     "text": [
      "df shape: (6137, 96)\n"
     ]
    },
    {
     "data": {
      "text/html": [
       "<div>\n",
       "<style scoped>\n",
       "    .dataframe tbody tr th:only-of-type {\n",
       "        vertical-align: middle;\n",
       "    }\n",
       "\n",
       "    .dataframe tbody tr th {\n",
       "        vertical-align: top;\n",
       "    }\n",
       "\n",
       "    .dataframe thead th {\n",
       "        text-align: right;\n",
       "    }\n",
       "</style>\n",
       "<table border=\"1\" class=\"dataframe\">\n",
       "  <thead>\n",
       "    <tr style=\"text-align: right;\">\n",
       "      <th></th>\n",
       "      <th>bankrupt</th>\n",
       "      <th>feat_1</th>\n",
       "      <th>feat_2</th>\n",
       "      <th>feat_3</th>\n",
       "      <th>feat_4</th>\n",
       "      <th>feat_5</th>\n",
       "      <th>feat_6</th>\n",
       "      <th>feat_7</th>\n",
       "      <th>feat_8</th>\n",
       "      <th>feat_9</th>\n",
       "      <th>...</th>\n",
       "      <th>feat_86</th>\n",
       "      <th>feat_87</th>\n",
       "      <th>feat_88</th>\n",
       "      <th>feat_89</th>\n",
       "      <th>feat_90</th>\n",
       "      <th>feat_91</th>\n",
       "      <th>feat_92</th>\n",
       "      <th>feat_93</th>\n",
       "      <th>feat_94</th>\n",
       "      <th>feat_95</th>\n",
       "    </tr>\n",
       "    <tr>\n",
       "      <th>id</th>\n",
       "      <th></th>\n",
       "      <th></th>\n",
       "      <th></th>\n",
       "      <th></th>\n",
       "      <th></th>\n",
       "      <th></th>\n",
       "      <th></th>\n",
       "      <th></th>\n",
       "      <th></th>\n",
       "      <th></th>\n",
       "      <th></th>\n",
       "      <th></th>\n",
       "      <th></th>\n",
       "      <th></th>\n",
       "      <th></th>\n",
       "      <th></th>\n",
       "      <th></th>\n",
       "      <th></th>\n",
       "      <th></th>\n",
       "      <th></th>\n",
       "      <th></th>\n",
       "    </tr>\n",
       "  </thead>\n",
       "  <tbody>\n",
       "    <tr>\n",
       "      <th>1</th>\n",
       "      <td>True</td>\n",
       "      <td>0.370594</td>\n",
       "      <td>0.424389</td>\n",
       "      <td>0.405750</td>\n",
       "      <td>0.601457</td>\n",
       "      <td>0.601457</td>\n",
       "      <td>0.998969</td>\n",
       "      <td>0.796887</td>\n",
       "      <td>0.808809</td>\n",
       "      <td>0.302646</td>\n",
       "      <td>...</td>\n",
       "      <td>0.716845</td>\n",
       "      <td>0.009219</td>\n",
       "      <td>0.622879</td>\n",
       "      <td>0.601453</td>\n",
       "      <td>0.827890</td>\n",
       "      <td>0.290202</td>\n",
       "      <td>0.026601</td>\n",
       "      <td>0.564050</td>\n",
       "      <td>1</td>\n",
       "      <td>0.016469</td>\n",
       "    </tr>\n",
       "    <tr>\n",
       "      <th>2</th>\n",
       "      <td>True</td>\n",
       "      <td>0.464291</td>\n",
       "      <td>0.538214</td>\n",
       "      <td>0.516730</td>\n",
       "      <td>0.610235</td>\n",
       "      <td>0.610235</td>\n",
       "      <td>0.998946</td>\n",
       "      <td>0.797380</td>\n",
       "      <td>0.809301</td>\n",
       "      <td>0.303556</td>\n",
       "      <td>...</td>\n",
       "      <td>0.795297</td>\n",
       "      <td>0.008323</td>\n",
       "      <td>0.623652</td>\n",
       "      <td>0.610237</td>\n",
       "      <td>0.839969</td>\n",
       "      <td>0.283846</td>\n",
       "      <td>0.264577</td>\n",
       "      <td>0.570175</td>\n",
       "      <td>1</td>\n",
       "      <td>0.020794</td>\n",
       "    </tr>\n",
       "    <tr>\n",
       "      <th>3</th>\n",
       "      <td>True</td>\n",
       "      <td>0.426071</td>\n",
       "      <td>0.499019</td>\n",
       "      <td>0.472295</td>\n",
       "      <td>0.601450</td>\n",
       "      <td>0.601364</td>\n",
       "      <td>0.998857</td>\n",
       "      <td>0.796403</td>\n",
       "      <td>0.808388</td>\n",
       "      <td>0.302035</td>\n",
       "      <td>...</td>\n",
       "      <td>0.774670</td>\n",
       "      <td>0.040003</td>\n",
       "      <td>0.623841</td>\n",
       "      <td>0.601449</td>\n",
       "      <td>0.836774</td>\n",
       "      <td>0.290189</td>\n",
       "      <td>0.026555</td>\n",
       "      <td>0.563706</td>\n",
       "      <td>1</td>\n",
       "      <td>0.016474</td>\n",
       "    </tr>\n",
       "    <tr>\n",
       "      <th>4</th>\n",
       "      <td>True</td>\n",
       "      <td>0.399844</td>\n",
       "      <td>0.451265</td>\n",
       "      <td>0.457733</td>\n",
       "      <td>0.583541</td>\n",
       "      <td>0.583541</td>\n",
       "      <td>0.998700</td>\n",
       "      <td>0.796967</td>\n",
       "      <td>0.808966</td>\n",
       "      <td>0.303350</td>\n",
       "      <td>...</td>\n",
       "      <td>0.739555</td>\n",
       "      <td>0.003252</td>\n",
       "      <td>0.622929</td>\n",
       "      <td>0.583538</td>\n",
       "      <td>0.834697</td>\n",
       "      <td>0.281721</td>\n",
       "      <td>0.026697</td>\n",
       "      <td>0.564663</td>\n",
       "      <td>1</td>\n",
       "      <td>0.023982</td>\n",
       "    </tr>\n",
       "    <tr>\n",
       "      <th>5</th>\n",
       "      <td>True</td>\n",
       "      <td>0.465022</td>\n",
       "      <td>0.538432</td>\n",
       "      <td>0.522298</td>\n",
       "      <td>0.598783</td>\n",
       "      <td>0.598783</td>\n",
       "      <td>0.998973</td>\n",
       "      <td>0.797366</td>\n",
       "      <td>0.809304</td>\n",
       "      <td>0.303475</td>\n",
       "      <td>...</td>\n",
       "      <td>0.795016</td>\n",
       "      <td>0.003878</td>\n",
       "      <td>0.623521</td>\n",
       "      <td>0.598782</td>\n",
       "      <td>0.839973</td>\n",
       "      <td>0.278514</td>\n",
       "      <td>0.024752</td>\n",
       "      <td>0.575617</td>\n",
       "      <td>1</td>\n",
       "      <td>0.035490</td>\n",
       "    </tr>\n",
       "  </tbody>\n",
       "</table>\n",
       "<p>5 rows × 96 columns</p>\n",
       "</div>"
      ],
      "text/plain": [
       "    bankrupt    feat_1    feat_2    feat_3    feat_4    feat_5    feat_6  \\\n",
       "id                                                                         \n",
       "1       True  0.370594  0.424389  0.405750  0.601457  0.601457  0.998969   \n",
       "2       True  0.464291  0.538214  0.516730  0.610235  0.610235  0.998946   \n",
       "3       True  0.426071  0.499019  0.472295  0.601450  0.601364  0.998857   \n",
       "4       True  0.399844  0.451265  0.457733  0.583541  0.583541  0.998700   \n",
       "5       True  0.465022  0.538432  0.522298  0.598783  0.598783  0.998973   \n",
       "\n",
       "      feat_7    feat_8    feat_9  ...   feat_86   feat_87   feat_88   feat_89  \\\n",
       "id                                ...                                           \n",
       "1   0.796887  0.808809  0.302646  ...  0.716845  0.009219  0.622879  0.601453   \n",
       "2   0.797380  0.809301  0.303556  ...  0.795297  0.008323  0.623652  0.610237   \n",
       "3   0.796403  0.808388  0.302035  ...  0.774670  0.040003  0.623841  0.601449   \n",
       "4   0.796967  0.808966  0.303350  ...  0.739555  0.003252  0.622929  0.583538   \n",
       "5   0.797366  0.809304  0.303475  ...  0.795016  0.003878  0.623521  0.598782   \n",
       "\n",
       "     feat_90   feat_91   feat_92   feat_93  feat_94   feat_95  \n",
       "id                                                             \n",
       "1   0.827890  0.290202  0.026601  0.564050        1  0.016469  \n",
       "2   0.839969  0.283846  0.264577  0.570175        1  0.020794  \n",
       "3   0.836774  0.290189  0.026555  0.563706        1  0.016474  \n",
       "4   0.834697  0.281721  0.026697  0.564663        1  0.023982  \n",
       "5   0.839973  0.278514  0.024752  0.575617        1  0.035490  \n",
       "\n",
       "[5 rows x 96 columns]"
      ]
     },
     "execution_count": 3,
     "metadata": {},
     "output_type": "execute_result"
    }
   ],
   "source": [
    "df = wrangle(\"data/taiwan-bankruptcy-data.json.gz\")\n",
    "print(\"df shape:\", df.shape)\n",
    "df.head()"
   ]
  },
  {
   "cell_type": "markdown",
   "id": "e36261a4-03c7-4616-95f8-0d4e12d2a8c4",
   "metadata": {},
   "source": [
    "## Split"
   ]
  },
  {
   "cell_type": "markdown",
   "id": "20e42c26-566d-46fd-88db-be277f18a2a4",
   "metadata": {},
   "source": [
    "Now I'll Create my feature matrix X and target vector y. my target is \"bankrupt\""
   ]
  },
  {
   "cell_type": "code",
   "execution_count": 5,
   "id": "94c6609b-e3b5-4400-ab16-3c979dbc4069",
   "metadata": {},
   "outputs": [
    {
     "name": "stdout",
     "output_type": "stream",
     "text": [
      "X shape: (6137, 95)\n",
      "y shape: (6137,)\n"
     ]
    }
   ],
   "source": [
    "target = \"bankrupt\"\n",
    "X = df.drop(columns=target)\n",
    "y = df[target]\n",
    "\n",
    "print(\"X shape:\", X.shape)\n",
    "print(\"y shape:\", y.shape)"
   ]
  },
  {
   "cell_type": "markdown",
   "id": "c16ffbc7-7e6a-4017-be1e-92f8b0109970",
   "metadata": {},
   "source": [
    "Now i'll divide my data (X and y) into training and test sets using a randomized train-test split. my test set should be 20% of your total data."
   ]
  },
  {
   "cell_type": "code",
   "execution_count": 6,
   "id": "10e3cf3a-8e52-417d-a9c7-b9af78bad185",
   "metadata": {},
   "outputs": [
    {
     "name": "stdout",
     "output_type": "stream",
     "text": [
      "X_train shape: (4909, 95)\n",
      "y_train shape: (4909,)\n",
      "X_test shape: (1228, 95)\n",
      "y_test shape: (1228,)\n"
     ]
    }
   ],
   "source": [
    "X_train, X_test, y_train, y_test = train_test_split(X,y,test_size=0.2, random_state=42)\n",
    "\n",
    "print(\"X_train shape:\", X_train.shape)\n",
    "print(\"y_train shape:\", y_train.shape)\n",
    "print(\"X_test shape:\", X_test.shape)\n",
    "print(\"y_test shape:\", y_test.shape)"
   ]
  },
  {
   "cell_type": "markdown",
   "id": "7b1b9f87-7947-4c1a-a851-ee2e494c3165",
   "metadata": {},
   "source": [
    "## Resample"
   ]
  },
  {
   "cell_type": "markdown",
   "id": "253b7b6d-ea5e-4c7a-9c8a-400a8b939cf4",
   "metadata": {},
   "source": [
    "We are going to use the over_sampling method cuz from the previous task the model performed best in terms of the test accuracy."
   ]
  },
  {
   "cell_type": "code",
   "execution_count": 7,
   "id": "922a59b1-d97c-406f-a221-512b65667633",
   "metadata": {},
   "outputs": [
    {
     "name": "stdout",
     "output_type": "stream",
     "text": [
      "X_train_over shape: (9512, 95)\n"
     ]
    },
    {
     "data": {
      "text/html": [
       "<div>\n",
       "<style scoped>\n",
       "    .dataframe tbody tr th:only-of-type {\n",
       "        vertical-align: middle;\n",
       "    }\n",
       "\n",
       "    .dataframe tbody tr th {\n",
       "        vertical-align: top;\n",
       "    }\n",
       "\n",
       "    .dataframe thead th {\n",
       "        text-align: right;\n",
       "    }\n",
       "</style>\n",
       "<table border=\"1\" class=\"dataframe\">\n",
       "  <thead>\n",
       "    <tr style=\"text-align: right;\">\n",
       "      <th></th>\n",
       "      <th>feat_1</th>\n",
       "      <th>feat_2</th>\n",
       "      <th>feat_3</th>\n",
       "      <th>feat_4</th>\n",
       "      <th>feat_5</th>\n",
       "      <th>feat_6</th>\n",
       "      <th>feat_7</th>\n",
       "      <th>feat_8</th>\n",
       "      <th>feat_9</th>\n",
       "      <th>feat_10</th>\n",
       "      <th>...</th>\n",
       "      <th>feat_86</th>\n",
       "      <th>feat_87</th>\n",
       "      <th>feat_88</th>\n",
       "      <th>feat_89</th>\n",
       "      <th>feat_90</th>\n",
       "      <th>feat_91</th>\n",
       "      <th>feat_92</th>\n",
       "      <th>feat_93</th>\n",
       "      <th>feat_94</th>\n",
       "      <th>feat_95</th>\n",
       "    </tr>\n",
       "  </thead>\n",
       "  <tbody>\n",
       "    <tr>\n",
       "      <th>0</th>\n",
       "      <td>0.535855</td>\n",
       "      <td>0.599160</td>\n",
       "      <td>0.594411</td>\n",
       "      <td>0.627099</td>\n",
       "      <td>0.627099</td>\n",
       "      <td>0.999220</td>\n",
       "      <td>0.797686</td>\n",
       "      <td>0.809591</td>\n",
       "      <td>0.303518</td>\n",
       "      <td>0.781865</td>\n",
       "      <td>...</td>\n",
       "      <td>0.834091</td>\n",
       "      <td>0.022025</td>\n",
       "      <td>0.624364</td>\n",
       "      <td>0.627101</td>\n",
       "      <td>0.841977</td>\n",
       "      <td>0.275384</td>\n",
       "      <td>0.026791</td>\n",
       "      <td>0.565158</td>\n",
       "      <td>1</td>\n",
       "      <td>0.147943</td>\n",
       "    </tr>\n",
       "    <tr>\n",
       "      <th>1</th>\n",
       "      <td>0.554136</td>\n",
       "      <td>0.612734</td>\n",
       "      <td>0.595000</td>\n",
       "      <td>0.607388</td>\n",
       "      <td>0.607388</td>\n",
       "      <td>0.999120</td>\n",
       "      <td>0.797614</td>\n",
       "      <td>0.809483</td>\n",
       "      <td>0.303600</td>\n",
       "      <td>0.781754</td>\n",
       "      <td>...</td>\n",
       "      <td>0.840293</td>\n",
       "      <td>0.002407</td>\n",
       "      <td>0.624548</td>\n",
       "      <td>0.607385</td>\n",
       "      <td>0.842645</td>\n",
       "      <td>0.276532</td>\n",
       "      <td>0.026791</td>\n",
       "      <td>0.565158</td>\n",
       "      <td>1</td>\n",
       "      <td>0.062544</td>\n",
       "    </tr>\n",
       "    <tr>\n",
       "      <th>2</th>\n",
       "      <td>0.549554</td>\n",
       "      <td>0.603467</td>\n",
       "      <td>0.599122</td>\n",
       "      <td>0.620166</td>\n",
       "      <td>0.620166</td>\n",
       "      <td>0.999119</td>\n",
       "      <td>0.797569</td>\n",
       "      <td>0.809470</td>\n",
       "      <td>0.303524</td>\n",
       "      <td>0.781740</td>\n",
       "      <td>...</td>\n",
       "      <td>0.840403</td>\n",
       "      <td>0.000840</td>\n",
       "      <td>0.624010</td>\n",
       "      <td>0.620163</td>\n",
       "      <td>0.842873</td>\n",
       "      <td>0.277249</td>\n",
       "      <td>0.026800</td>\n",
       "      <td>0.565200</td>\n",
       "      <td>1</td>\n",
       "      <td>0.047929</td>\n",
       "    </tr>\n",
       "    <tr>\n",
       "      <th>3</th>\n",
       "      <td>0.543801</td>\n",
       "      <td>0.603249</td>\n",
       "      <td>0.606992</td>\n",
       "      <td>0.622515</td>\n",
       "      <td>0.622515</td>\n",
       "      <td>0.999259</td>\n",
       "      <td>0.797728</td>\n",
       "      <td>0.809649</td>\n",
       "      <td>0.303510</td>\n",
       "      <td>0.781930</td>\n",
       "      <td>...</td>\n",
       "      <td>0.831514</td>\n",
       "      <td>0.006176</td>\n",
       "      <td>0.626775</td>\n",
       "      <td>0.622513</td>\n",
       "      <td>0.842989</td>\n",
       "      <td>0.280013</td>\n",
       "      <td>0.026839</td>\n",
       "      <td>0.565375</td>\n",
       "      <td>1</td>\n",
       "      <td>0.028386</td>\n",
       "    </tr>\n",
       "    <tr>\n",
       "      <th>4</th>\n",
       "      <td>0.498659</td>\n",
       "      <td>0.562364</td>\n",
       "      <td>0.546978</td>\n",
       "      <td>0.603670</td>\n",
       "      <td>0.603670</td>\n",
       "      <td>0.998904</td>\n",
       "      <td>0.797584</td>\n",
       "      <td>0.809459</td>\n",
       "      <td>0.304000</td>\n",
       "      <td>0.781713</td>\n",
       "      <td>...</td>\n",
       "      <td>0.811988</td>\n",
       "      <td>0.004256</td>\n",
       "      <td>0.623674</td>\n",
       "      <td>0.603669</td>\n",
       "      <td>0.841105</td>\n",
       "      <td>0.277628</td>\n",
       "      <td>0.026897</td>\n",
       "      <td>0.565618</td>\n",
       "      <td>1</td>\n",
       "      <td>0.043080</td>\n",
       "    </tr>\n",
       "  </tbody>\n",
       "</table>\n",
       "<p>5 rows × 95 columns</p>\n",
       "</div>"
      ],
      "text/plain": [
       "     feat_1    feat_2    feat_3    feat_4    feat_5    feat_6    feat_7  \\\n",
       "0  0.535855  0.599160  0.594411  0.627099  0.627099  0.999220  0.797686   \n",
       "1  0.554136  0.612734  0.595000  0.607388  0.607388  0.999120  0.797614   \n",
       "2  0.549554  0.603467  0.599122  0.620166  0.620166  0.999119  0.797569   \n",
       "3  0.543801  0.603249  0.606992  0.622515  0.622515  0.999259  0.797728   \n",
       "4  0.498659  0.562364  0.546978  0.603670  0.603670  0.998904  0.797584   \n",
       "\n",
       "     feat_8    feat_9   feat_10  ...   feat_86   feat_87   feat_88   feat_89  \\\n",
       "0  0.809591  0.303518  0.781865  ...  0.834091  0.022025  0.624364  0.627101   \n",
       "1  0.809483  0.303600  0.781754  ...  0.840293  0.002407  0.624548  0.607385   \n",
       "2  0.809470  0.303524  0.781740  ...  0.840403  0.000840  0.624010  0.620163   \n",
       "3  0.809649  0.303510  0.781930  ...  0.831514  0.006176  0.626775  0.622513   \n",
       "4  0.809459  0.304000  0.781713  ...  0.811988  0.004256  0.623674  0.603669   \n",
       "\n",
       "    feat_90   feat_91   feat_92   feat_93  feat_94   feat_95  \n",
       "0  0.841977  0.275384  0.026791  0.565158        1  0.147943  \n",
       "1  0.842645  0.276532  0.026791  0.565158        1  0.062544  \n",
       "2  0.842873  0.277249  0.026800  0.565200        1  0.047929  \n",
       "3  0.842989  0.280013  0.026839  0.565375        1  0.028386  \n",
       "4  0.841105  0.277628  0.026897  0.565618        1  0.043080  \n",
       "\n",
       "[5 rows x 95 columns]"
      ]
     },
     "execution_count": 7,
     "metadata": {},
     "output_type": "execute_result"
    }
   ],
   "source": [
    "over_sampler = RandomOverSampler(random_state=42)\n",
    "X_train_over, y_train_over = over_sampler.fit_resample(X_train,y_train)\n",
    "print(\"X_train_over shape:\", X_train_over.shape)\n",
    "X_train_over.head()"
   ]
  },
  {
   "cell_type": "markdown",
   "id": "be3923e8-847f-4e67-9595-826273b9c908",
   "metadata": {},
   "source": [
    "# Build Model"
   ]
  },
  {
   "cell_type": "markdown",
   "id": "98792b64-fe32-45ca-bc08-f985e51cfda4",
   "metadata": {},
   "source": [
    "## Baseline"
   ]
  },
  {
   "cell_type": "code",
   "execution_count": 8,
   "id": "52d12dbd-a294-4d83-9310-51b2c6de7871",
   "metadata": {},
   "outputs": [
    {
     "name": "stdout",
     "output_type": "stream",
     "text": [
      "Baseline Accuracy: 0.9688\n"
     ]
    }
   ],
   "source": [
    "# Calculate the baseline accuracy score for my model.\n",
    "acc_baseline = y_train.value_counts(normalize=True).max()\n",
    "print(\"Baseline Accuracy:\", round(acc_baseline, 4))"
   ]
  },
  {
   "cell_type": "markdown",
   "id": "b48311a4-956c-443f-86b6-191f34f5fcba",
   "metadata": {},
   "source": [
    "## Iterate"
   ]
  },
  {
   "cell_type": "markdown",
   "id": "b94f0eea-cf78-4d5f-b538-c8aaca7aa6d2",
   "metadata": {},
   "source": [
    "Ensemble models work by building multiple models on random subsets of the same data, and then comparing their predictions to make a final prediction. Since we used a decision tree in the last project, we're going to create an ensemble of trees here."
   ]
  },
  {
   "cell_type": "markdown",
   "id": "2833d3a2-6f87-4ca3-9c65-e86d67440965",
   "metadata": {},
   "source": [
    "Now I'll Create a pipeline named clf (short for \"classifier\") that contains a RandomForestClassifier predictor"
   ]
  },
  {
   "cell_type": "code",
   "execution_count": 9,
   "id": "a58683ef-3624-4a9b-987a-09d1b6e87ffa",
   "metadata": {},
   "outputs": [
    {
     "name": "stdout",
     "output_type": "stream",
     "text": [
      "RandomForestClassifier(random_state=42)\n"
     ]
    }
   ],
   "source": [
    "clf = RandomForestClassifier(random_state=42)\n",
    "print(clf)"
   ]
  },
  {
   "cell_type": "markdown",
   "id": "1cb5eeac-5e97-4bb6-ab1c-0a18a4dfde23",
   "metadata": {},
   "source": [
    "By default, the number of trees in our forest (n_estimators) is set to 100. That means when I train this classifier,i'll be fitting 100 trees."
   ]
  },
  {
   "cell_type": "markdown",
   "id": "fb1fd2e6-f904-45ab-86fa-bfb799d3e352",
   "metadata": {},
   "source": [
    "Next I'll perform cross validation on the oversampled data sets. With cross validation there is no need to split the data to a validation set .this technique helps to tune Hyperparameters of our model here by boosting model performance."
   ]
  },
  {
   "cell_type": "markdown",
   "id": "0e677149-4893-4b1b-815e-7628fd0c68ab",
   "metadata": {},
   "source": [
    "Next I'll Perform cross-validation with my classifier, using the over-sampled training data. I want five folds, so I set cv to 5. I also want to speed up training, so I set n_jobs to -1."
   ]
  },
  {
   "cell_type": "code",
   "execution_count": 10,
   "id": "01545bf7-b792-4cd8-be5c-eab6c20c1c41",
   "metadata": {},
   "outputs": [
    {
     "name": "stdout",
     "output_type": "stream",
     "text": [
      "[0.99316868 0.99474514 0.99369085 0.99369085 0.9957939 ]\n"
     ]
    }
   ],
   "source": [
    "cv_scores = cross_val_score(clf,X_train_over,y_train_over,cv=5,n_jobs=-1)\n",
    "print(cv_scores)"
   ]
  },
  {
   "cell_type": "markdown",
   "id": "7b90e0a1-fb01-4db7-8bdd-7671000be805",
   "metadata": {},
   "source": [
    "Next I'll Create a dictionary with the range of hyperparameters that I want to evaluate for our classifier."
   ]
  },
  {
   "cell_type": "code",
   "execution_count": 12,
   "id": "c019eece-cb3c-40f5-8a11-b8f2e2bc4185",
   "metadata": {},
   "outputs": [
    {
     "data": {
      "text/plain": [
       "{'n_estimators': range(25, 100, 25), 'max_depth': range(10, 50, 10)}"
      ]
     },
     "execution_count": 12,
     "metadata": {},
     "output_type": "execute_result"
    }
   ],
   "source": [
    "# Create a dictionary with the range of hyperparameters that we want to evaluate for our classifier\n",
    "params = {\n",
    "    \"n_estimators\": range(25,100,25),\n",
    "    \"max_depth\": range(10,50,10)\n",
    "}\n",
    "params"
   ]
  },
  {
   "cell_type": "markdown",
   "id": "3b36ceec-ae07-46aa-8973-bfe599905245",
   "metadata": {},
   "source": [
    "Now that I have my hyperparameter grid, I'll incorporate it into a grid search."
   ]
  },
  {
   "cell_type": "markdown",
   "id": "a3f7c0d1-339f-45c3-a7be-0d282e19e418",
   "metadata": {},
   "source": [
    "Next I'll Create a GridSearchCV named model that includes my classifier and hyperparameter grid."
   ]
  },
  {
   "cell_type": "code",
   "execution_count": 13,
   "id": "69eb63f0-b194-4741-8f03-bb8341cdf2c3",
   "metadata": {},
   "outputs": [
    {
     "data": {
      "text/html": [
       "<style>#sk-container-id-1 {color: black;background-color: white;}#sk-container-id-1 pre{padding: 0;}#sk-container-id-1 div.sk-toggleable {background-color: white;}#sk-container-id-1 label.sk-toggleable__label {cursor: pointer;display: block;width: 100%;margin-bottom: 0;padding: 0.3em;box-sizing: border-box;text-align: center;}#sk-container-id-1 label.sk-toggleable__label-arrow:before {content: \"▸\";float: left;margin-right: 0.25em;color: #696969;}#sk-container-id-1 label.sk-toggleable__label-arrow:hover:before {color: black;}#sk-container-id-1 div.sk-estimator:hover label.sk-toggleable__label-arrow:before {color: black;}#sk-container-id-1 div.sk-toggleable__content {max-height: 0;max-width: 0;overflow: hidden;text-align: left;background-color: #f0f8ff;}#sk-container-id-1 div.sk-toggleable__content pre {margin: 0.2em;color: black;border-radius: 0.25em;background-color: #f0f8ff;}#sk-container-id-1 input.sk-toggleable__control:checked~div.sk-toggleable__content {max-height: 200px;max-width: 100%;overflow: auto;}#sk-container-id-1 input.sk-toggleable__control:checked~label.sk-toggleable__label-arrow:before {content: \"▾\";}#sk-container-id-1 div.sk-estimator input.sk-toggleable__control:checked~label.sk-toggleable__label {background-color: #d4ebff;}#sk-container-id-1 div.sk-label input.sk-toggleable__control:checked~label.sk-toggleable__label {background-color: #d4ebff;}#sk-container-id-1 input.sk-hidden--visually {border: 0;clip: rect(1px 1px 1px 1px);clip: rect(1px, 1px, 1px, 1px);height: 1px;margin: -1px;overflow: hidden;padding: 0;position: absolute;width: 1px;}#sk-container-id-1 div.sk-estimator {font-family: monospace;background-color: #f0f8ff;border: 1px dotted black;border-radius: 0.25em;box-sizing: border-box;margin-bottom: 0.5em;}#sk-container-id-1 div.sk-estimator:hover {background-color: #d4ebff;}#sk-container-id-1 div.sk-parallel-item::after {content: \"\";width: 100%;border-bottom: 1px solid gray;flex-grow: 1;}#sk-container-id-1 div.sk-label:hover label.sk-toggleable__label {background-color: #d4ebff;}#sk-container-id-1 div.sk-serial::before {content: \"\";position: absolute;border-left: 1px solid gray;box-sizing: border-box;top: 0;bottom: 0;left: 50%;z-index: 0;}#sk-container-id-1 div.sk-serial {display: flex;flex-direction: column;align-items: center;background-color: white;padding-right: 0.2em;padding-left: 0.2em;position: relative;}#sk-container-id-1 div.sk-item {position: relative;z-index: 1;}#sk-container-id-1 div.sk-parallel {display: flex;align-items: stretch;justify-content: center;background-color: white;position: relative;}#sk-container-id-1 div.sk-item::before, #sk-container-id-1 div.sk-parallel-item::before {content: \"\";position: absolute;border-left: 1px solid gray;box-sizing: border-box;top: 0;bottom: 0;left: 50%;z-index: -1;}#sk-container-id-1 div.sk-parallel-item {display: flex;flex-direction: column;z-index: 1;position: relative;background-color: white;}#sk-container-id-1 div.sk-parallel-item:first-child::after {align-self: flex-end;width: 50%;}#sk-container-id-1 div.sk-parallel-item:last-child::after {align-self: flex-start;width: 50%;}#sk-container-id-1 div.sk-parallel-item:only-child::after {width: 0;}#sk-container-id-1 div.sk-dashed-wrapped {border: 1px dashed gray;margin: 0 0.4em 0.5em 0.4em;box-sizing: border-box;padding-bottom: 0.4em;background-color: white;}#sk-container-id-1 div.sk-label label {font-family: monospace;font-weight: bold;display: inline-block;line-height: 1.2em;}#sk-container-id-1 div.sk-label-container {text-align: center;}#sk-container-id-1 div.sk-container {/* jupyter's `normalize.less` sets `[hidden] { display: none; }` but bootstrap.min.css set `[hidden] { display: none !important; }` so we also need the `!important` here to be able to override the default hidden behavior on the sphinx rendered scikit-learn.org. See: https://github.com/scikit-learn/scikit-learn/issues/21755 */display: inline-block !important;position: relative;}#sk-container-id-1 div.sk-text-repr-fallback {display: none;}</style><div id=\"sk-container-id-1\" class=\"sk-top-container\"><div class=\"sk-text-repr-fallback\"><pre>GridSearchCV(cv=5, estimator=RandomForestClassifier(random_state=42), n_jobs=-1,\n",
       "             param_grid={&#x27;max_depth&#x27;: range(10, 50, 10),\n",
       "                         &#x27;n_estimators&#x27;: range(25, 100, 25)},\n",
       "             verbose=1)</pre><b>In a Jupyter environment, please rerun this cell to show the HTML representation or trust the notebook. <br />On GitHub, the HTML representation is unable to render, please try loading this page with nbviewer.org.</b></div><div class=\"sk-container\" hidden><div class=\"sk-item sk-dashed-wrapped\"><div class=\"sk-label-container\"><div class=\"sk-label sk-toggleable\"><input class=\"sk-toggleable__control sk-hidden--visually\" id=\"sk-estimator-id-1\" type=\"checkbox\" ><label for=\"sk-estimator-id-1\" class=\"sk-toggleable__label sk-toggleable__label-arrow\">GridSearchCV</label><div class=\"sk-toggleable__content\"><pre>GridSearchCV(cv=5, estimator=RandomForestClassifier(random_state=42), n_jobs=-1,\n",
       "             param_grid={&#x27;max_depth&#x27;: range(10, 50, 10),\n",
       "                         &#x27;n_estimators&#x27;: range(25, 100, 25)},\n",
       "             verbose=1)</pre></div></div></div><div class=\"sk-parallel\"><div class=\"sk-parallel-item\"><div class=\"sk-item\"><div class=\"sk-label-container\"><div class=\"sk-label sk-toggleable\"><input class=\"sk-toggleable__control sk-hidden--visually\" id=\"sk-estimator-id-2\" type=\"checkbox\" ><label for=\"sk-estimator-id-2\" class=\"sk-toggleable__label sk-toggleable__label-arrow\">estimator: RandomForestClassifier</label><div class=\"sk-toggleable__content\"><pre>RandomForestClassifier(random_state=42)</pre></div></div></div><div class=\"sk-serial\"><div class=\"sk-item\"><div class=\"sk-estimator sk-toggleable\"><input class=\"sk-toggleable__control sk-hidden--visually\" id=\"sk-estimator-id-3\" type=\"checkbox\" ><label for=\"sk-estimator-id-3\" class=\"sk-toggleable__label sk-toggleable__label-arrow\">RandomForestClassifier</label><div class=\"sk-toggleable__content\"><pre>RandomForestClassifier(random_state=42)</pre></div></div></div></div></div></div></div></div></div></div>"
      ],
      "text/plain": [
       "GridSearchCV(cv=5, estimator=RandomForestClassifier(random_state=42), n_jobs=-1,\n",
       "             param_grid={'max_depth': range(10, 50, 10),\n",
       "                         'n_estimators': range(25, 100, 25)},\n",
       "             verbose=1)"
      ]
     },
     "execution_count": 13,
     "metadata": {},
     "output_type": "execute_result"
    }
   ],
   "source": [
    "model = GridSearchCV(\n",
    "    clf,\n",
    "    param_grid=params,\n",
    "    cv=5,\n",
    "    n_jobs=-1,\n",
    "    verbose=1\n",
    "\n",
    ")\n",
    "model"
   ]
  },
  {
   "cell_type": "markdown",
   "id": "9a70e4e3-72a3-4374-8305-50902b357659",
   "metadata": {},
   "source": [
    "Next I'll Fit model to the over-sampled training data.\n"
   ]
  },
  {
   "cell_type": "code",
   "execution_count": 14,
   "id": "2712ad73-a466-433a-95f3-0ba0bc461b9b",
   "metadata": {},
   "outputs": [
    {
     "name": "stdout",
     "output_type": "stream",
     "text": [
      "Fitting 5 folds for each of 12 candidates, totalling 60 fits\n"
     ]
    },
    {
     "data": {
      "text/html": [
       "<style>#sk-container-id-2 {color: black;background-color: white;}#sk-container-id-2 pre{padding: 0;}#sk-container-id-2 div.sk-toggleable {background-color: white;}#sk-container-id-2 label.sk-toggleable__label {cursor: pointer;display: block;width: 100%;margin-bottom: 0;padding: 0.3em;box-sizing: border-box;text-align: center;}#sk-container-id-2 label.sk-toggleable__label-arrow:before {content: \"▸\";float: left;margin-right: 0.25em;color: #696969;}#sk-container-id-2 label.sk-toggleable__label-arrow:hover:before {color: black;}#sk-container-id-2 div.sk-estimator:hover label.sk-toggleable__label-arrow:before {color: black;}#sk-container-id-2 div.sk-toggleable__content {max-height: 0;max-width: 0;overflow: hidden;text-align: left;background-color: #f0f8ff;}#sk-container-id-2 div.sk-toggleable__content pre {margin: 0.2em;color: black;border-radius: 0.25em;background-color: #f0f8ff;}#sk-container-id-2 input.sk-toggleable__control:checked~div.sk-toggleable__content {max-height: 200px;max-width: 100%;overflow: auto;}#sk-container-id-2 input.sk-toggleable__control:checked~label.sk-toggleable__label-arrow:before {content: \"▾\";}#sk-container-id-2 div.sk-estimator input.sk-toggleable__control:checked~label.sk-toggleable__label {background-color: #d4ebff;}#sk-container-id-2 div.sk-label input.sk-toggleable__control:checked~label.sk-toggleable__label {background-color: #d4ebff;}#sk-container-id-2 input.sk-hidden--visually {border: 0;clip: rect(1px 1px 1px 1px);clip: rect(1px, 1px, 1px, 1px);height: 1px;margin: -1px;overflow: hidden;padding: 0;position: absolute;width: 1px;}#sk-container-id-2 div.sk-estimator {font-family: monospace;background-color: #f0f8ff;border: 1px dotted black;border-radius: 0.25em;box-sizing: border-box;margin-bottom: 0.5em;}#sk-container-id-2 div.sk-estimator:hover {background-color: #d4ebff;}#sk-container-id-2 div.sk-parallel-item::after {content: \"\";width: 100%;border-bottom: 1px solid gray;flex-grow: 1;}#sk-container-id-2 div.sk-label:hover label.sk-toggleable__label {background-color: #d4ebff;}#sk-container-id-2 div.sk-serial::before {content: \"\";position: absolute;border-left: 1px solid gray;box-sizing: border-box;top: 0;bottom: 0;left: 50%;z-index: 0;}#sk-container-id-2 div.sk-serial {display: flex;flex-direction: column;align-items: center;background-color: white;padding-right: 0.2em;padding-left: 0.2em;position: relative;}#sk-container-id-2 div.sk-item {position: relative;z-index: 1;}#sk-container-id-2 div.sk-parallel {display: flex;align-items: stretch;justify-content: center;background-color: white;position: relative;}#sk-container-id-2 div.sk-item::before, #sk-container-id-2 div.sk-parallel-item::before {content: \"\";position: absolute;border-left: 1px solid gray;box-sizing: border-box;top: 0;bottom: 0;left: 50%;z-index: -1;}#sk-container-id-2 div.sk-parallel-item {display: flex;flex-direction: column;z-index: 1;position: relative;background-color: white;}#sk-container-id-2 div.sk-parallel-item:first-child::after {align-self: flex-end;width: 50%;}#sk-container-id-2 div.sk-parallel-item:last-child::after {align-self: flex-start;width: 50%;}#sk-container-id-2 div.sk-parallel-item:only-child::after {width: 0;}#sk-container-id-2 div.sk-dashed-wrapped {border: 1px dashed gray;margin: 0 0.4em 0.5em 0.4em;box-sizing: border-box;padding-bottom: 0.4em;background-color: white;}#sk-container-id-2 div.sk-label label {font-family: monospace;font-weight: bold;display: inline-block;line-height: 1.2em;}#sk-container-id-2 div.sk-label-container {text-align: center;}#sk-container-id-2 div.sk-container {/* jupyter's `normalize.less` sets `[hidden] { display: none; }` but bootstrap.min.css set `[hidden] { display: none !important; }` so we also need the `!important` here to be able to override the default hidden behavior on the sphinx rendered scikit-learn.org. See: https://github.com/scikit-learn/scikit-learn/issues/21755 */display: inline-block !important;position: relative;}#sk-container-id-2 div.sk-text-repr-fallback {display: none;}</style><div id=\"sk-container-id-2\" class=\"sk-top-container\"><div class=\"sk-text-repr-fallback\"><pre>GridSearchCV(cv=5, estimator=RandomForestClassifier(random_state=42), n_jobs=-1,\n",
       "             param_grid={&#x27;max_depth&#x27;: range(10, 50, 10),\n",
       "                         &#x27;n_estimators&#x27;: range(25, 100, 25)},\n",
       "             verbose=1)</pre><b>In a Jupyter environment, please rerun this cell to show the HTML representation or trust the notebook. <br />On GitHub, the HTML representation is unable to render, please try loading this page with nbviewer.org.</b></div><div class=\"sk-container\" hidden><div class=\"sk-item sk-dashed-wrapped\"><div class=\"sk-label-container\"><div class=\"sk-label sk-toggleable\"><input class=\"sk-toggleable__control sk-hidden--visually\" id=\"sk-estimator-id-4\" type=\"checkbox\" ><label for=\"sk-estimator-id-4\" class=\"sk-toggleable__label sk-toggleable__label-arrow\">GridSearchCV</label><div class=\"sk-toggleable__content\"><pre>GridSearchCV(cv=5, estimator=RandomForestClassifier(random_state=42), n_jobs=-1,\n",
       "             param_grid={&#x27;max_depth&#x27;: range(10, 50, 10),\n",
       "                         &#x27;n_estimators&#x27;: range(25, 100, 25)},\n",
       "             verbose=1)</pre></div></div></div><div class=\"sk-parallel\"><div class=\"sk-parallel-item\"><div class=\"sk-item\"><div class=\"sk-label-container\"><div class=\"sk-label sk-toggleable\"><input class=\"sk-toggleable__control sk-hidden--visually\" id=\"sk-estimator-id-5\" type=\"checkbox\" ><label for=\"sk-estimator-id-5\" class=\"sk-toggleable__label sk-toggleable__label-arrow\">estimator: RandomForestClassifier</label><div class=\"sk-toggleable__content\"><pre>RandomForestClassifier(random_state=42)</pre></div></div></div><div class=\"sk-serial\"><div class=\"sk-item\"><div class=\"sk-estimator sk-toggleable\"><input class=\"sk-toggleable__control sk-hidden--visually\" id=\"sk-estimator-id-6\" type=\"checkbox\" ><label for=\"sk-estimator-id-6\" class=\"sk-toggleable__label sk-toggleable__label-arrow\">RandomForestClassifier</label><div class=\"sk-toggleable__content\"><pre>RandomForestClassifier(random_state=42)</pre></div></div></div></div></div></div></div></div></div></div>"
      ],
      "text/plain": [
       "GridSearchCV(cv=5, estimator=RandomForestClassifier(random_state=42), n_jobs=-1,\n",
       "             param_grid={'max_depth': range(10, 50, 10),\n",
       "                         'n_estimators': range(25, 100, 25)},\n",
       "             verbose=1)"
      ]
     },
     "execution_count": 14,
     "metadata": {},
     "output_type": "execute_result"
    }
   ],
   "source": [
    "# Train model\n",
    "model.fit(X_train_over,y_train_over)"
   ]
  },
  {
   "cell_type": "markdown",
   "id": "cf48e61a-4fb4-435c-852e-34a1fe13a272",
   "metadata": {},
   "source": [
    "Next I'll Extract the cross-validation results from model and load them into a DataFrame named cv_results"
   ]
  },
  {
   "cell_type": "code",
   "execution_count": 15,
   "id": "540a6582-1344-4e92-b280-e5940081e460",
   "metadata": {},
   "outputs": [
    {
     "data": {
      "text/html": [
       "<div>\n",
       "<style scoped>\n",
       "    .dataframe tbody tr th:only-of-type {\n",
       "        vertical-align: middle;\n",
       "    }\n",
       "\n",
       "    .dataframe tbody tr th {\n",
       "        vertical-align: top;\n",
       "    }\n",
       "\n",
       "    .dataframe thead th {\n",
       "        text-align: right;\n",
       "    }\n",
       "</style>\n",
       "<table border=\"1\" class=\"dataframe\">\n",
       "  <thead>\n",
       "    <tr style=\"text-align: right;\">\n",
       "      <th></th>\n",
       "      <th>mean_fit_time</th>\n",
       "      <th>std_fit_time</th>\n",
       "      <th>mean_score_time</th>\n",
       "      <th>std_score_time</th>\n",
       "      <th>param_max_depth</th>\n",
       "      <th>param_n_estimators</th>\n",
       "      <th>params</th>\n",
       "      <th>split0_test_score</th>\n",
       "      <th>split1_test_score</th>\n",
       "      <th>split2_test_score</th>\n",
       "      <th>split3_test_score</th>\n",
       "      <th>split4_test_score</th>\n",
       "      <th>mean_test_score</th>\n",
       "      <th>std_test_score</th>\n",
       "      <th>rank_test_score</th>\n",
       "    </tr>\n",
       "  </thead>\n",
       "  <tbody>\n",
       "    <tr>\n",
       "      <th>0</th>\n",
       "      <td>1.316659</td>\n",
       "      <td>0.067570</td>\n",
       "      <td>0.036461</td>\n",
       "      <td>0.029978</td>\n",
       "      <td>10</td>\n",
       "      <td>25</td>\n",
       "      <td>{'max_depth': 10, 'n_estimators': 25}</td>\n",
       "      <td>0.981608</td>\n",
       "      <td>0.980032</td>\n",
       "      <td>0.979495</td>\n",
       "      <td>0.981073</td>\n",
       "      <td>0.980547</td>\n",
       "      <td>0.980551</td>\n",
       "      <td>0.000745</td>\n",
       "      <td>11</td>\n",
       "    </tr>\n",
       "    <tr>\n",
       "      <th>1</th>\n",
       "      <td>2.559248</td>\n",
       "      <td>0.084913</td>\n",
       "      <td>0.031118</td>\n",
       "      <td>0.026681</td>\n",
       "      <td>10</td>\n",
       "      <td>50</td>\n",
       "      <td>{'max_depth': 10, 'n_estimators': 50}</td>\n",
       "      <td>0.983184</td>\n",
       "      <td>0.981608</td>\n",
       "      <td>0.977918</td>\n",
       "      <td>0.980021</td>\n",
       "      <td>0.981073</td>\n",
       "      <td>0.980761</td>\n",
       "      <td>0.001750</td>\n",
       "      <td>10</td>\n",
       "    </tr>\n",
       "    <tr>\n",
       "      <th>2</th>\n",
       "      <td>3.821787</td>\n",
       "      <td>0.037695</td>\n",
       "      <td>0.077600</td>\n",
       "      <td>0.023561</td>\n",
       "      <td>10</td>\n",
       "      <td>75</td>\n",
       "      <td>{'max_depth': 10, 'n_estimators': 75}</td>\n",
       "      <td>0.983184</td>\n",
       "      <td>0.981083</td>\n",
       "      <td>0.977392</td>\n",
       "      <td>0.979495</td>\n",
       "      <td>0.981073</td>\n",
       "      <td>0.980445</td>\n",
       "      <td>0.001925</td>\n",
       "      <td>12</td>\n",
       "    </tr>\n",
       "    <tr>\n",
       "      <th>3</th>\n",
       "      <td>1.553781</td>\n",
       "      <td>0.039280</td>\n",
       "      <td>0.024901</td>\n",
       "      <td>0.025706</td>\n",
       "      <td>20</td>\n",
       "      <td>25</td>\n",
       "      <td>{'max_depth': 20, 'n_estimators': 25}</td>\n",
       "      <td>0.990541</td>\n",
       "      <td>0.986863</td>\n",
       "      <td>0.985804</td>\n",
       "      <td>0.990011</td>\n",
       "      <td>0.989485</td>\n",
       "      <td>0.988541</td>\n",
       "      <td>0.001863</td>\n",
       "      <td>9</td>\n",
       "    </tr>\n",
       "    <tr>\n",
       "      <th>4</th>\n",
       "      <td>3.005867</td>\n",
       "      <td>0.078105</td>\n",
       "      <td>0.070763</td>\n",
       "      <td>0.025390</td>\n",
       "      <td>20</td>\n",
       "      <td>50</td>\n",
       "      <td>{'max_depth': 20, 'n_estimators': 50}</td>\n",
       "      <td>0.990541</td>\n",
       "      <td>0.990016</td>\n",
       "      <td>0.987907</td>\n",
       "      <td>0.990011</td>\n",
       "      <td>0.990011</td>\n",
       "      <td>0.989697</td>\n",
       "      <td>0.000918</td>\n",
       "      <td>7</td>\n",
       "    </tr>\n",
       "    <tr>\n",
       "      <th>5</th>\n",
       "      <td>4.677939</td>\n",
       "      <td>0.273627</td>\n",
       "      <td>0.081217</td>\n",
       "      <td>0.026264</td>\n",
       "      <td>20</td>\n",
       "      <td>75</td>\n",
       "      <td>{'max_depth': 20, 'n_estimators': 75}</td>\n",
       "      <td>0.991067</td>\n",
       "      <td>0.989490</td>\n",
       "      <td>0.987382</td>\n",
       "      <td>0.988433</td>\n",
       "      <td>0.990011</td>\n",
       "      <td>0.989276</td>\n",
       "      <td>0.001272</td>\n",
       "      <td>8</td>\n",
       "    </tr>\n",
       "    <tr>\n",
       "      <th>6</th>\n",
       "      <td>1.639158</td>\n",
       "      <td>0.035886</td>\n",
       "      <td>0.024794</td>\n",
       "      <td>0.024961</td>\n",
       "      <td>30</td>\n",
       "      <td>25</td>\n",
       "      <td>{'max_depth': 30, 'n_estimators': 25}</td>\n",
       "      <td>0.992643</td>\n",
       "      <td>0.993694</td>\n",
       "      <td>0.992114</td>\n",
       "      <td>0.993165</td>\n",
       "      <td>0.993165</td>\n",
       "      <td>0.992956</td>\n",
       "      <td>0.000537</td>\n",
       "      <td>6</td>\n",
       "    </tr>\n",
       "    <tr>\n",
       "      <th>7</th>\n",
       "      <td>3.219089</td>\n",
       "      <td>0.037025</td>\n",
       "      <td>0.059712</td>\n",
       "      <td>0.030202</td>\n",
       "      <td>30</td>\n",
       "      <td>50</td>\n",
       "      <td>{'max_depth': 30, 'n_estimators': 50}</td>\n",
       "      <td>0.992118</td>\n",
       "      <td>0.993694</td>\n",
       "      <td>0.992114</td>\n",
       "      <td>0.993165</td>\n",
       "      <td>0.994217</td>\n",
       "      <td>0.993061</td>\n",
       "      <td>0.000841</td>\n",
       "      <td>5</td>\n",
       "    </tr>\n",
       "    <tr>\n",
       "      <th>8</th>\n",
       "      <td>4.835394</td>\n",
       "      <td>0.040674</td>\n",
       "      <td>0.081885</td>\n",
       "      <td>0.024302</td>\n",
       "      <td>30</td>\n",
       "      <td>75</td>\n",
       "      <td>{'max_depth': 30, 'n_estimators': 75}</td>\n",
       "      <td>0.992118</td>\n",
       "      <td>0.993694</td>\n",
       "      <td>0.993165</td>\n",
       "      <td>0.993691</td>\n",
       "      <td>0.994742</td>\n",
       "      <td>0.993482</td>\n",
       "      <td>0.000853</td>\n",
       "      <td>4</td>\n",
       "    </tr>\n",
       "    <tr>\n",
       "      <th>9</th>\n",
       "      <td>1.651849</td>\n",
       "      <td>0.040611</td>\n",
       "      <td>0.025644</td>\n",
       "      <td>0.025366</td>\n",
       "      <td>40</td>\n",
       "      <td>25</td>\n",
       "      <td>{'max_depth': 40, 'n_estimators': 25}</td>\n",
       "      <td>0.994220</td>\n",
       "      <td>0.994220</td>\n",
       "      <td>0.994742</td>\n",
       "      <td>0.993165</td>\n",
       "      <td>0.994742</td>\n",
       "      <td>0.994218</td>\n",
       "      <td>0.000576</td>\n",
       "      <td>3</td>\n",
       "    </tr>\n",
       "  </tbody>\n",
       "</table>\n",
       "</div>"
      ],
      "text/plain": [
       "   mean_fit_time  std_fit_time  mean_score_time  std_score_time  \\\n",
       "0       1.316659      0.067570         0.036461        0.029978   \n",
       "1       2.559248      0.084913         0.031118        0.026681   \n",
       "2       3.821787      0.037695         0.077600        0.023561   \n",
       "3       1.553781      0.039280         0.024901        0.025706   \n",
       "4       3.005867      0.078105         0.070763        0.025390   \n",
       "5       4.677939      0.273627         0.081217        0.026264   \n",
       "6       1.639158      0.035886         0.024794        0.024961   \n",
       "7       3.219089      0.037025         0.059712        0.030202   \n",
       "8       4.835394      0.040674         0.081885        0.024302   \n",
       "9       1.651849      0.040611         0.025644        0.025366   \n",
       "\n",
       "  param_max_depth param_n_estimators                                 params  \\\n",
       "0              10                 25  {'max_depth': 10, 'n_estimators': 25}   \n",
       "1              10                 50  {'max_depth': 10, 'n_estimators': 50}   \n",
       "2              10                 75  {'max_depth': 10, 'n_estimators': 75}   \n",
       "3              20                 25  {'max_depth': 20, 'n_estimators': 25}   \n",
       "4              20                 50  {'max_depth': 20, 'n_estimators': 50}   \n",
       "5              20                 75  {'max_depth': 20, 'n_estimators': 75}   \n",
       "6              30                 25  {'max_depth': 30, 'n_estimators': 25}   \n",
       "7              30                 50  {'max_depth': 30, 'n_estimators': 50}   \n",
       "8              30                 75  {'max_depth': 30, 'n_estimators': 75}   \n",
       "9              40                 25  {'max_depth': 40, 'n_estimators': 25}   \n",
       "\n",
       "   split0_test_score  split1_test_score  split2_test_score  split3_test_score  \\\n",
       "0           0.981608           0.980032           0.979495           0.981073   \n",
       "1           0.983184           0.981608           0.977918           0.980021   \n",
       "2           0.983184           0.981083           0.977392           0.979495   \n",
       "3           0.990541           0.986863           0.985804           0.990011   \n",
       "4           0.990541           0.990016           0.987907           0.990011   \n",
       "5           0.991067           0.989490           0.987382           0.988433   \n",
       "6           0.992643           0.993694           0.992114           0.993165   \n",
       "7           0.992118           0.993694           0.992114           0.993165   \n",
       "8           0.992118           0.993694           0.993165           0.993691   \n",
       "9           0.994220           0.994220           0.994742           0.993165   \n",
       "\n",
       "   split4_test_score  mean_test_score  std_test_score  rank_test_score  \n",
       "0           0.980547         0.980551        0.000745               11  \n",
       "1           0.981073         0.980761        0.001750               10  \n",
       "2           0.981073         0.980445        0.001925               12  \n",
       "3           0.989485         0.988541        0.001863                9  \n",
       "4           0.990011         0.989697        0.000918                7  \n",
       "5           0.990011         0.989276        0.001272                8  \n",
       "6           0.993165         0.992956        0.000537                6  \n",
       "7           0.994217         0.993061        0.000841                5  \n",
       "8           0.994742         0.993482        0.000853                4  \n",
       "9           0.994742         0.994218        0.000576                3  "
      ]
     },
     "execution_count": 15,
     "metadata": {},
     "output_type": "execute_result"
    }
   ],
   "source": [
    "cv_results = pd.DataFrame(model.cv_results_)\n",
    "cv_results.head(10)"
   ]
  },
  {
   "cell_type": "markdown",
   "id": "2d76afe4-9717-40b5-8cbd-fa034850e6a8",
   "metadata": {},
   "source": [
    "First, I'll look at n_estimators. My grid search evaluated this hyperparameter for various max_depth settings, but I'll only look at models where max_depth equals 10."
   ]
  },
  {
   "cell_type": "markdown",
   "id": "dcb5c2fe-1a7d-4844-b567-de714710aeb7",
   "metadata": {},
   "source": [
    "I'll Create a mask for cv_results for rows where \"param_randomforestclassifier__max_depth\" equals 10. Then plot \"param_randomforestclassifier__n_estimators\" on the x-axis and \"mean_fit_time\""
   ]
  },
  {
   "cell_type": "code",
   "execution_count": 18,
   "id": "a2bacfa9-3674-4f55-a04a-6db2c0aa180c",
   "metadata": {},
   "outputs": [
    {
     "data": {
      "image/png": "[encoded data removed]",
      "text/plain": [
       "<Figure size 432x288 with 1 Axes>"
      ]
     },
     "metadata": {
      "needs_background": "light"
     },
     "output_type": "display_data"
    }
   ],
   "source": [
    "# Create mask\n",
    "mask = cv_results[\"param_max_depth\"] == 10\n",
    "# Plot fit time vs n_estimators\n",
    "plt.plot(\n",
    "     cv_results[mask][\"param_n_estimators\"],\n",
    "     cv_results[mask][\"mean_fit_time\"]\n",
    ")\n",
    "# Label axes\n",
    "plt.xlabel(\"Number of Estimators\")\n",
    "plt.ylabel(\"Mean Fit Time [seconds]\")\n",
    "plt.title(\"Training Time vs Estimators (max_depth=10)\");"
   ]
  },
  {
   "cell_type": "markdown",
   "id": "93816319-4f6e-4411-a043-cdcb64dd54c1",
   "metadata": {},
   "source": [
    "It can be seen from the visualization that the number of estimator increases the training time increases."
   ]
  },
  {
   "cell_type": "markdown",
   "id": "89b43525-8317-4ac2-b684-507e0fda95b1",
   "metadata": {},
   "source": [
    "Next, I'll look at max_depth. Here, I'll also limit our data to rows where n_estimators equals 40."
   ]
  },
  {
   "cell_type": "code",
   "execution_count": 22,
   "id": "7d3c7072-2f24-4dd3-9291-80fa4e13bd98",
   "metadata": {},
   "outputs": [
    {
     "data": {
      "image/png": "[encoded data removed]",
      "text/plain": [
       "<Figure size 432x288 with 1 Axes>"
      ]
     },
     "metadata": {
      "needs_background": "light"
     },
     "output_type": "display_data"
    }
   ],
   "source": [
    "# Create mask\n",
    "mask = cv_results[\"param_max_depth\"] == 40\n",
    "# Plot fit time vs n_estimators\n",
    "plt.plot(\n",
    "     cv_results[mask][\"param_n_estimators\"],\n",
    "     cv_results[mask][\"mean_fit_time\"]\n",
    ")\n",
    "# Label axes\n",
    "plt.xlabel(\"Number of Estimators\")\n",
    "plt.ylabel(\"Mean Fit Time [seconds]\")\n",
    "plt.title(\"Training Time vs Estimators (max_depth=30)\");"
   ]
  },
  {
   "cell_type": "markdown",
   "id": "b7c280b9-9581-4fb0-b005-902429dc79e9",
   "metadata": {},
   "source": [
    "Finally, let's look at the hyperparameters that led to the best performance."
   ]
  },
  {
   "cell_type": "code",
   "execution_count": 26,
   "id": "ebaacc9d-c871-44e6-a716-5b737a2d4d6e",
   "metadata": {},
   "outputs": [
    {
     "name": "stdout",
     "output_type": "stream",
     "text": [
      " the best model paramters is : {'max_depth': 40, 'n_estimators': 75}\n",
      " the model best score is : 0.9944282451804197\n"
     ]
    }
   ],
   "source": [
    "# Extract best hyperparameters\n",
    "best_model_par = model.best_params_\n",
    "model_best_score = model.best_score_\n",
    "\n",
    "print(f\" the best model paramters is : {best_model_par}\")\n",
    "print(f\" the model best score is : {model_best_score}\")\n"
   ]
  },
  {
   "cell_type": "markdown",
   "id": "bebdce24-4501-4fde-b610-a08a2d68a828",
   "metadata": {},
   "source": [
    "Note that I don't need to build and train a new model with these settings. Now that the grid search is complete, when I used model.predict(), it will serve up predictions using the best model."
   ]
  },
  {
   "cell_type": "markdown",
   "id": "e4796522-196e-4613-b098-d3f1e7f62f7a",
   "metadata": {},
   "source": [
    "## Evaluate"
   ]
  },
  {
   "cell_type": "code",
   "execution_count": 27,
   "id": "d45b5bfb-0058-4be6-8654-4a9c1763b377",
   "metadata": {},
   "outputs": [
    {
     "name": "stdout",
     "output_type": "stream",
     "text": [
      "Training Accuracy: 1.0\n",
      "Test Accuracy: 0.9764\n"
     ]
    }
   ],
   "source": [
    "# Calculate the training and test accuracy scores for my model\n",
    "acc_train =  model.score(X_train,y_train)\n",
    "acc_test = model.score(X_test,y_test)\n",
    "\n",
    "print(\"Training Accuracy:\", round(acc_train, 4))\n",
    "print(\"Test Accuracy:\", round(acc_test, 4))"
   ]
  },
  {
   "cell_type": "markdown",
   "id": "fd3fb2e1-15ff-40cb-b936-1cc5e12453d7",
   "metadata": {},
   "source": [
    "It can be  seen that we beat baseline."
   ]
  },
  {
   "cell_type": "markdown",
   "id": "2092e0f4-eb3c-44a4-9a56-7db060f6e37a",
   "metadata": {},
   "source": [
    "Next, I am going to use a confusion matrix to see how my model performs. To better understand the values I'll see in the matrix, I'll first count how many observations in my test set belongs to the positive and negative classes."
   ]
  },
  {
   "cell_type": "code",
   "execution_count": 28,
   "id": "f62db8ed-c97b-4392-a77b-dbe828bc49ae",
   "metadata": {},
   "outputs": [
    {
     "data": {
      "text/plain": [
       "False    1191\n",
       "True       37\n",
       "Name: bankrupt, dtype: int64"
      ]
     },
     "execution_count": 28,
     "metadata": {},
     "output_type": "execute_result"
    }
   ],
   "source": [
    "y_test.value_counts()"
   ]
  },
  {
   "cell_type": "markdown",
   "id": "eaae997c-9ab9-4422-bf24-a1b03614ea8e",
   "metadata": {},
   "source": [
    "Next I'll Plot a confusion matrix that shows how my best model performs on my test set."
   ]
  },
  {
   "cell_type": "code",
   "execution_count": 29,
   "id": "d1adce99-96e2-4c6c-be95-9ad70fb06e8a",
   "metadata": {},
   "outputs": [
    {
     "data": {
      "image/png": "[encoded data removed]",
      "text/plain": [
       "<Figure size 432x288 with 2 Axes>"
      ]
     },
     "metadata": {
      "needs_background": "light"
     },
     "output_type": "display_data"
    }
   ],
   "source": [
    "# Plot confusion matrix\n",
    "ConfusionMatrixDisplay.from_estimator(model,X_test,y_test);"
   ]
  },
  {
   "cell_type": "markdown",
   "id": "6c26939d-28ee-4183-b371-8f0d16652b37",
   "metadata": {},
   "source": [
    "Notice the relationship between the numbers in this matrix with the count I did in the previous task it can be seen the random forest did better in predictions than the decision tree.summing the values in the bottom row, you get the total number of positive observations in y_test ( 22+15=37). And the top row sum to the number of negative observations ( 1184+7=1191)\n",
    " "
   ]
  },
  {
   "cell_type": "markdown",
   "id": "6d3cd2a7-f2fd-4bd6-8658-536638b5c6d9",
   "metadata": {},
   "source": [
    "# Communicate"
   ]
  },
  {
   "cell_type": "markdown",
   "id": "74d0bc5c-0c35-468a-80c2-1b5610739d35",
   "metadata": {},
   "source": [
    "Now I'll Create a horizontal bar chart with the 15 most important features for model."
   ]
  },
  {
   "cell_type": "code",
   "execution_count": 32,
   "id": "5fb5e21c-7eb2-4255-9342-2e6cc5404e16",
   "metadata": {},
   "outputs": [
    {
     "data": {
      "image/png": "[encoded data removed]",
      "text/plain": [
       "<Figure size 432x288 with 1 Axes>"
      ]
     },
     "metadata": {
      "needs_background": "light"
     },
     "output_type": "display_data"
    }
   ],
   "source": [
    "# Get feature names from training data\n",
    "features = X_train_over.columns\n",
    "# Extract importances from model\n",
    "importances = importances = model.best_estimator_.feature_importances_\n",
    "# Create a series with feature names and importances\n",
    "feat_imp = pd.Series(importances, index=features).sort_values()\n",
    "# Plot 10 most important features\n",
    "feat_imp.tail(10).plot(kind=\"barh\")\n",
    "plt.xlabel(\"Gini Importance\")\n",
    "plt.ylabel(\"Feature\")\n",
    "plt.title(\"Feature Importance\");"
   ]
  },
  {
   "cell_type": "markdown",
   "id": "cb4d3fe9-5388-4751-8bc8-1b15e08660a0",
   "metadata": {},
   "source": [
    "It can be see from the visualization that feat_86 is our most important feature followed by feat_36 aand feat_40 respectively. Also notice the increase in the Gini importance scores ,this is a clear indication that the ensemble model (random forest) did better than the decision tree model."
   ]
  },
  {
   "cell_type": "markdown",
   "id": "fd58366e-60f4-4d72-9f04-80ca989a79e1",
   "metadata": {},
   "source": [
    "Finally Using a context manager, I'll save your best-performing model to a a file named \"model-random-forest.pkl\""
   ]
  },
  {
   "cell_type": "code",
   "execution_count": 34,
   "id": "0a3367b7-62ff-4665-a3a1-8287de75aefb",
   "metadata": {},
   "outputs": [],
   "source": [
    "# Save your model as `\"model-random-forest.pkl\"`\n",
    "with open(\"model-random-forest.pkl\",\"wb\") as f:\n",
    "    pickle.dump(model,f)"
   ]
  }
 ],
 "metadata": {
  "kernelspec": {
   "display_name": "Python 3",
   "language": "python",
   "name": "python3"
  },
  "language_info": {
   "codemirror_mode": {
    "name": "ipython",
    "version": 3
   },
   "file_extension": ".py",
   "mimetype": "text/x-python",
   "name": "python",
   "nbconvert_exporter": "python",
   "pygments_lexer": "ipython3",
   "version": "3.8.16"
  }
 },
 "nbformat": 4,
 "nbformat_minor": 5
}
