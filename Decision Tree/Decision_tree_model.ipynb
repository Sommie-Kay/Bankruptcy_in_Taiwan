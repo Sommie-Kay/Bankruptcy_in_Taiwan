{
 "cells": [
  {
   "cell_type": "markdown",
   "id": "fe3329e0-0383-45fa-b49e-cf6d33221e19",
   "metadata": {},
   "source": [
    "# Predicting Bankruptcy in Taiwan Using Decision Tree Model"
   ]
  },
  {
   "cell_type": "code",
   "execution_count": 1,
   "id": "182bde37-bf1f-4ce1-9aa6-89dc4364285b",
   "metadata": {},
   "outputs": [],
   "source": [
    "import gzip\n",
    "import json\n",
    "import pickle\n",
    "\n",
    "import matplotlib.pyplot as plt\n",
    "import pandas as pd\n",
    "import seaborn as sns\n",
    "from imblearn.over_sampling import RandomOverSampler\n",
    "from imblearn.under_sampling import RandomUnderSampler\n",
    "from IPython.display import VimeoVideo\n",
    "from sklearn.impute import SimpleImputer\n",
    "from sklearn.metrics import ConfusionMatrixDisplay\n",
    "from sklearn.model_selection import train_test_split\n",
    "from sklearn.pipeline import make_pipeline\n",
    "from sklearn.tree import DecisionTreeClassifier\n"
   ]
  },
  {
   "cell_type": "markdown",
   "id": "6e4622b2-b44d-4f7f-9591-056975276fd8",
   "metadata": {},
   "source": [
    "# Prepare Data"
   ]
  },
  {
   "cell_type": "markdown",
   "id": "c79767d4-1963-4409-9d80-d16d5079ceaf",
   "metadata": {},
   "source": [
    "## Import"
   ]
  },
  {
   "cell_type": "markdown",
   "id": "adbe15f9-7e78-44c2-96cc-ff6e4e5a660a",
   "metadata": {},
   "source": [
    "I'll reload my wrangle function from the previous notebook."
   ]
  },
  {
   "cell_type": "code",
   "execution_count": 2,
   "id": "c3a4ebf3-bb18-4a99-8978-6dd7d2222833",
   "metadata": {},
   "outputs": [],
   "source": [
    "# load wrangle function\n",
    "def wrangle(filename):\n",
    "    # open compressed file,load into dict\n",
    "    with gzip.open(filename,\"r\") as f:\n",
    "        data = json.load(f)\n",
    "        \n",
    "    # turn dict into dataframe\n",
    "    df = pd.DataFrame().from_dict(data[\"observations\"]).set_index(\"id\")\n",
    "    \n",
    "    return df"
   ]
  },
  {
   "cell_type": "code",
   "execution_count": 3,
   "id": "2da44f8a-0288-4c89-8880-f9e5981e7a65",
   "metadata": {},
   "outputs": [
    {
     "name": "stdout",
     "output_type": "stream",
     "text": [
      "df shape: (6137, 96)\n"
     ]
    },
    {
     "data": {
      "text/html": [
       "<div>\n",
       "<style scoped>\n",
       "    .dataframe tbody tr th:only-of-type {\n",
       "        vertical-align: middle;\n",
       "    }\n",
       "\n",
       "    .dataframe tbody tr th {\n",
       "        vertical-align: top;\n",
       "    }\n",
       "\n",
       "    .dataframe thead th {\n",
       "        text-align: right;\n",
       "    }\n",
       "</style>\n",
       "<table border=\"1\" class=\"dataframe\">\n",
       "  <thead>\n",
       "    <tr style=\"text-align: right;\">\n",
       "      <th></th>\n",
       "      <th>bankrupt</th>\n",
       "      <th>feat_1</th>\n",
       "      <th>feat_2</th>\n",
       "      <th>feat_3</th>\n",
       "      <th>feat_4</th>\n",
       "      <th>feat_5</th>\n",
       "      <th>feat_6</th>\n",
       "      <th>feat_7</th>\n",
       "      <th>feat_8</th>\n",
       "      <th>feat_9</th>\n",
       "      <th>...</th>\n",
       "      <th>feat_86</th>\n",
       "      <th>feat_87</th>\n",
       "      <th>feat_88</th>\n",
       "      <th>feat_89</th>\n",
       "      <th>feat_90</th>\n",
       "      <th>feat_91</th>\n",
       "      <th>feat_92</th>\n",
       "      <th>feat_93</th>\n",
       "      <th>feat_94</th>\n",
       "      <th>feat_95</th>\n",
       "    </tr>\n",
       "    <tr>\n",
       "      <th>id</th>\n",
       "      <th></th>\n",
       "      <th></th>\n",
       "      <th></th>\n",
       "      <th></th>\n",
       "      <th></th>\n",
       "      <th></th>\n",
       "      <th></th>\n",
       "      <th></th>\n",
       "      <th></th>\n",
       "      <th></th>\n",
       "      <th></th>\n",
       "      <th></th>\n",
       "      <th></th>\n",
       "      <th></th>\n",
       "      <th></th>\n",
       "      <th></th>\n",
       "      <th></th>\n",
       "      <th></th>\n",
       "      <th></th>\n",
       "      <th></th>\n",
       "      <th></th>\n",
       "    </tr>\n",
       "  </thead>\n",
       "  <tbody>\n",
       "    <tr>\n",
       "      <th>1</th>\n",
       "      <td>True</td>\n",
       "      <td>0.370594</td>\n",
       "      <td>0.424389</td>\n",
       "      <td>0.405750</td>\n",
       "      <td>0.601457</td>\n",
       "      <td>0.601457</td>\n",
       "      <td>0.998969</td>\n",
       "      <td>0.796887</td>\n",
       "      <td>0.808809</td>\n",
       "      <td>0.302646</td>\n",
       "      <td>...</td>\n",
       "      <td>0.716845</td>\n",
       "      <td>0.009219</td>\n",
       "      <td>0.622879</td>\n",
       "      <td>0.601453</td>\n",
       "      <td>0.827890</td>\n",
       "      <td>0.290202</td>\n",
       "      <td>0.026601</td>\n",
       "      <td>0.564050</td>\n",
       "      <td>1</td>\n",
       "      <td>0.016469</td>\n",
       "    </tr>\n",
       "    <tr>\n",
       "      <th>2</th>\n",
       "      <td>True</td>\n",
       "      <td>0.464291</td>\n",
       "      <td>0.538214</td>\n",
       "      <td>0.516730</td>\n",
       "      <td>0.610235</td>\n",
       "      <td>0.610235</td>\n",
       "      <td>0.998946</td>\n",
       "      <td>0.797380</td>\n",
       "      <td>0.809301</td>\n",
       "      <td>0.303556</td>\n",
       "      <td>...</td>\n",
       "      <td>0.795297</td>\n",
       "      <td>0.008323</td>\n",
       "      <td>0.623652</td>\n",
       "      <td>0.610237</td>\n",
       "      <td>0.839969</td>\n",
       "      <td>0.283846</td>\n",
       "      <td>0.264577</td>\n",
       "      <td>0.570175</td>\n",
       "      <td>1</td>\n",
       "      <td>0.020794</td>\n",
       "    </tr>\n",
       "    <tr>\n",
       "      <th>3</th>\n",
       "      <td>True</td>\n",
       "      <td>0.426071</td>\n",
       "      <td>0.499019</td>\n",
       "      <td>0.472295</td>\n",
       "      <td>0.601450</td>\n",
       "      <td>0.601364</td>\n",
       "      <td>0.998857</td>\n",
       "      <td>0.796403</td>\n",
       "      <td>0.808388</td>\n",
       "      <td>0.302035</td>\n",
       "      <td>...</td>\n",
       "      <td>0.774670</td>\n",
       "      <td>0.040003</td>\n",
       "      <td>0.623841</td>\n",
       "      <td>0.601449</td>\n",
       "      <td>0.836774</td>\n",
       "      <td>0.290189</td>\n",
       "      <td>0.026555</td>\n",
       "      <td>0.563706</td>\n",
       "      <td>1</td>\n",
       "      <td>0.016474</td>\n",
       "    </tr>\n",
       "    <tr>\n",
       "      <th>4</th>\n",
       "      <td>True</td>\n",
       "      <td>0.399844</td>\n",
       "      <td>0.451265</td>\n",
       "      <td>0.457733</td>\n",
       "      <td>0.583541</td>\n",
       "      <td>0.583541</td>\n",
       "      <td>0.998700</td>\n",
       "      <td>0.796967</td>\n",
       "      <td>0.808966</td>\n",
       "      <td>0.303350</td>\n",
       "      <td>...</td>\n",
       "      <td>0.739555</td>\n",
       "      <td>0.003252</td>\n",
       "      <td>0.622929</td>\n",
       "      <td>0.583538</td>\n",
       "      <td>0.834697</td>\n",
       "      <td>0.281721</td>\n",
       "      <td>0.026697</td>\n",
       "      <td>0.564663</td>\n",
       "      <td>1</td>\n",
       "      <td>0.023982</td>\n",
       "    </tr>\n",
       "    <tr>\n",
       "      <th>5</th>\n",
       "      <td>True</td>\n",
       "      <td>0.465022</td>\n",
       "      <td>0.538432</td>\n",
       "      <td>0.522298</td>\n",
       "      <td>0.598783</td>\n",
       "      <td>0.598783</td>\n",
       "      <td>0.998973</td>\n",
       "      <td>0.797366</td>\n",
       "      <td>0.809304</td>\n",
       "      <td>0.303475</td>\n",
       "      <td>...</td>\n",
       "      <td>0.795016</td>\n",
       "      <td>0.003878</td>\n",
       "      <td>0.623521</td>\n",
       "      <td>0.598782</td>\n",
       "      <td>0.839973</td>\n",
       "      <td>0.278514</td>\n",
       "      <td>0.024752</td>\n",
       "      <td>0.575617</td>\n",
       "      <td>1</td>\n",
       "      <td>0.035490</td>\n",
       "    </tr>\n",
       "  </tbody>\n",
       "</table>\n",
       "<p>5 rows × 96 columns</p>\n",
       "</div>"
      ],
      "text/plain": [
       "    bankrupt    feat_1    feat_2    feat_3    feat_4    feat_5    feat_6  \\\n",
       "id                                                                         \n",
       "1       True  0.370594  0.424389  0.405750  0.601457  0.601457  0.998969   \n",
       "2       True  0.464291  0.538214  0.516730  0.610235  0.610235  0.998946   \n",
       "3       True  0.426071  0.499019  0.472295  0.601450  0.601364  0.998857   \n",
       "4       True  0.399844  0.451265  0.457733  0.583541  0.583541  0.998700   \n",
       "5       True  0.465022  0.538432  0.522298  0.598783  0.598783  0.998973   \n",
       "\n",
       "      feat_7    feat_8    feat_9  ...   feat_86   feat_87   feat_88   feat_89  \\\n",
       "id                                ...                                           \n",
       "1   0.796887  0.808809  0.302646  ...  0.716845  0.009219  0.622879  0.601453   \n",
       "2   0.797380  0.809301  0.303556  ...  0.795297  0.008323  0.623652  0.610237   \n",
       "3   0.796403  0.808388  0.302035  ...  0.774670  0.040003  0.623841  0.601449   \n",
       "4   0.796967  0.808966  0.303350  ...  0.739555  0.003252  0.622929  0.583538   \n",
       "5   0.797366  0.809304  0.303475  ...  0.795016  0.003878  0.623521  0.598782   \n",
       "\n",
       "     feat_90   feat_91   feat_92   feat_93  feat_94   feat_95  \n",
       "id                                                             \n",
       "1   0.827890  0.290202  0.026601  0.564050        1  0.016469  \n",
       "2   0.839969  0.283846  0.264577  0.570175        1  0.020794  \n",
       "3   0.836774  0.290189  0.026555  0.563706        1  0.016474  \n",
       "4   0.834697  0.281721  0.026697  0.564663        1  0.023982  \n",
       "5   0.839973  0.278514  0.024752  0.575617        1  0.035490  \n",
       "\n",
       "[5 rows x 96 columns]"
      ]
     },
     "execution_count": 3,
     "metadata": {},
     "output_type": "execute_result"
    }
   ],
   "source": [
    "df = wrangle(\"data/taiwan-bankruptcy-data.json.gz\")\n",
    "print(\"df shape:\", df.shape)\n",
    "df.head()"
   ]
  },
  {
   "cell_type": "markdown",
   "id": "2e3af73f-09f6-4183-9637-1cd4d22d2e9e",
   "metadata": {},
   "source": [
    "## Explore"
   ]
  },
  {
   "cell_type": "code",
   "execution_count": 4,
   "id": "8dcb9539-0904-4351-8f0b-6ba83047a8ae",
   "metadata": {},
   "outputs": [
    {
     "name": "stdout",
     "output_type": "stream",
     "text": [
      "<class 'pandas.core.frame.DataFrame'>\n",
      "Int64Index: 6137 entries, 1 to 6819\n",
      "Data columns (total 96 columns):\n",
      " #   Column    Non-Null Count  Dtype  \n",
      "---  ------    --------------  -----  \n",
      " 0   bankrupt  6137 non-null   bool   \n",
      " 1   feat_1    6137 non-null   float64\n",
      " 2   feat_2    6137 non-null   float64\n",
      " 3   feat_3    6137 non-null   float64\n",
      " 4   feat_4    6137 non-null   float64\n",
      " 5   feat_5    6137 non-null   float64\n",
      " 6   feat_6    6137 non-null   float64\n",
      " 7   feat_7    6137 non-null   float64\n",
      " 8   feat_8    6137 non-null   float64\n",
      " 9   feat_9    6137 non-null   float64\n",
      " 10  feat_10   6137 non-null   float64\n",
      " 11  feat_11   6137 non-null   float64\n",
      " 12  feat_12   6137 non-null   float64\n",
      " 13  feat_13   6137 non-null   float64\n",
      " 14  feat_14   6137 non-null   float64\n",
      " 15  feat_15   6137 non-null   float64\n",
      " 16  feat_16   6137 non-null   float64\n",
      " 17  feat_17   6137 non-null   float64\n",
      " 18  feat_18   6137 non-null   float64\n",
      " 19  feat_19   6137 non-null   float64\n",
      " 20  feat_20   6137 non-null   float64\n",
      " 21  feat_21   6137 non-null   float64\n",
      " 22  feat_22   6137 non-null   float64\n",
      " 23  feat_23   6137 non-null   float64\n",
      " 24  feat_24   6137 non-null   float64\n",
      " 25  feat_25   6137 non-null   float64\n",
      " 26  feat_26   6137 non-null   float64\n",
      " 27  feat_27   6137 non-null   float64\n",
      " 28  feat_28   6137 non-null   float64\n",
      " 29  feat_29   6137 non-null   float64\n",
      " 30  feat_30   6137 non-null   float64\n",
      " 31  feat_31   6137 non-null   float64\n",
      " 32  feat_32   6137 non-null   float64\n",
      " 33  feat_33   6137 non-null   float64\n",
      " 34  feat_34   6137 non-null   float64\n",
      " 35  feat_35   6137 non-null   float64\n",
      " 36  feat_36   6137 non-null   float64\n",
      " 37  feat_37   6137 non-null   float64\n",
      " 38  feat_38   6137 non-null   float64\n",
      " 39  feat_39   6137 non-null   float64\n",
      " 40  feat_40   6137 non-null   float64\n",
      " 41  feat_41   6137 non-null   float64\n",
      " 42  feat_42   6137 non-null   float64\n",
      " 43  feat_43   6137 non-null   float64\n",
      " 44  feat_44   6137 non-null   float64\n",
      " 45  feat_45   6137 non-null   float64\n",
      " 46  feat_46   6137 non-null   float64\n",
      " 47  feat_47   6137 non-null   float64\n",
      " 48  feat_48   6137 non-null   float64\n",
      " 49  feat_49   6137 non-null   float64\n",
      " 50  feat_50   6137 non-null   float64\n",
      " 51  feat_51   6137 non-null   float64\n",
      " 52  feat_52   6137 non-null   float64\n",
      " 53  feat_53   6137 non-null   float64\n",
      " 54  feat_54   6137 non-null   float64\n",
      " 55  feat_55   6137 non-null   float64\n",
      " 56  feat_56   6137 non-null   float64\n",
      " 57  feat_57   6137 non-null   float64\n",
      " 58  feat_58   6137 non-null   float64\n",
      " 59  feat_59   6137 non-null   float64\n",
      " 60  feat_60   6137 non-null   float64\n",
      " 61  feat_61   6137 non-null   float64\n",
      " 62  feat_62   6137 non-null   float64\n",
      " 63  feat_63   6137 non-null   float64\n",
      " 64  feat_64   6137 non-null   float64\n",
      " 65  feat_65   6137 non-null   float64\n",
      " 66  feat_66   6137 non-null   float64\n",
      " 67  feat_67   6137 non-null   float64\n",
      " 68  feat_68   6137 non-null   float64\n",
      " 69  feat_69   6137 non-null   float64\n",
      " 70  feat_70   6137 non-null   float64\n",
      " 71  feat_71   6137 non-null   float64\n",
      " 72  feat_72   6137 non-null   float64\n",
      " 73  feat_73   6137 non-null   float64\n",
      " 74  feat_74   6137 non-null   float64\n",
      " 75  feat_75   6137 non-null   float64\n",
      " 76  feat_76   6137 non-null   float64\n",
      " 77  feat_77   6137 non-null   float64\n",
      " 78  feat_78   6137 non-null   float64\n",
      " 79  feat_79   6137 non-null   float64\n",
      " 80  feat_80   6137 non-null   float64\n",
      " 81  feat_81   6137 non-null   float64\n",
      " 82  feat_82   6137 non-null   float64\n",
      " 83  feat_83   6137 non-null   float64\n",
      " 84  feat_84   6137 non-null   float64\n",
      " 85  feat_85   6137 non-null   int64  \n",
      " 86  feat_86   6137 non-null   float64\n",
      " 87  feat_87   6137 non-null   float64\n",
      " 88  feat_88   6137 non-null   float64\n",
      " 89  feat_89   6137 non-null   float64\n",
      " 90  feat_90   6137 non-null   float64\n",
      " 91  feat_91   6137 non-null   float64\n",
      " 92  feat_92   6137 non-null   float64\n",
      " 93  feat_93   6137 non-null   float64\n",
      " 94  feat_94   6137 non-null   int64  \n",
      " 95  feat_95   6137 non-null   float64\n",
      "dtypes: bool(1), float64(93), int64(2)\n",
      "memory usage: 4.5 MB\n"
     ]
    }
   ],
   "source": [
    "# Inspect a DataFrame using the info\n",
    "df.info()"
   ]
  },
  {
   "cell_type": "markdown",
   "id": "92f3c7f6-0dd0-47db-ad7f-e423c792fcb2",
   "metadata": {},
   "source": [
    "Now I know all our features are numerical and I have no missing data.Next I'll do some visualizations to see if there are any interesting trends or ideas we should keep in mind while we work. First, I'll take a look at how many firms are bankrupt, and how many are not."
   ]
  },
  {
   "cell_type": "code",
   "execution_count": 5,
   "id": "66d8e4e5-2415-4078-a9da-9ebada083d0e",
   "metadata": {},
   "outputs": [
    {
     "data": {
      "text/plain": [
       "False    0.96904\n",
       "True     0.03096\n",
       "Name: bankrupt, dtype: float64"
      ]
     },
     "execution_count": 5,
     "metadata": {},
     "output_type": "execute_result"
    }
   ],
   "source": [
    "df[\"bankrupt\"].value_counts(normalize=True)"
   ]
  },
  {
   "cell_type": "markdown",
   "id": "f96d07ec-20d7-4f13-aa8f-7c663ef8f1a8",
   "metadata": {},
   "source": [
    "Next I'll create a visual representation of this .\n"
   ]
  },
  {
   "cell_type": "code",
   "execution_count": 6,
   "id": "c3ee1dde-e311-484c-b055-0f9edcb40b96",
   "metadata": {},
   "outputs": [
    {
     "data": {
      "image/png": "[encoded data removed]",
      "text/plain": [
       "<Figure size 432x288 with 1 Axes>"
      ]
     },
     "metadata": {
      "needs_background": "light"
     },
     "output_type": "display_data"
    }
   ],
   "source": [
    "# Plot class balance\n",
    "df[\"bankrupt\"].value_counts(normalize=True).plot(\n",
    "    kind = \"bar\",\n",
    "    xlabel = \"Bankrupt\",\n",
    "    ylabel = \"Frequency\",\n",
    "    title =\"class balance\"\n",
    ");"
   ]
  },
  {
   "cell_type": "markdown",
   "id": "8c04586e-c4c5-4760-ba15-d79fdb36e760",
   "metadata": {},
   "source": [
    "From the bar chart above it can be seen that about 97% of the companies are not bankrupt while, 3% of the data a experiencing bankruptcy."
   ]
  },
  {
   "cell_type": "markdown",
   "id": "6b6cec81-20d1-41a1-8d4e-f605d3091b15",
   "metadata": {},
   "source": [
    "In the last notebook, I noticed that there were 96 features of each company, each of which had some kind of numerical value. It might be useful to understand where the values for one of these features cluster, so I'll make a boxplot to see how the values in some of these features are distributed.I'll randomly consider \"feat_86\" and \"feat_10\" ."
   ]
  },
  {
   "cell_type": "code",
   "execution_count": 7,
   "id": "ee6695d2-0ec0-41c4-aa39-a8e00fb9d11d",
   "metadata": {},
   "outputs": [
    {
     "data": {
      "image/png": "[encoded data removed]",
      "text/plain": [
       "<Figure size 432x288 with 1 Axes>"
      ]
     },
     "metadata": {
      "needs_background": "light"
     },
     "output_type": "display_data"
    }
   ],
   "source": [
    "#Use seaborn to create a boxplot that shows the distributions of the \"feat_86\" column for both groups in the \"bankrupt\" column\n",
    "# Create boxplot\n",
    "sns.boxplot(x=\"bankrupt\",y=\"feat_86\",data=df)\n",
    "plt.xlabel(\"Bankrupt\")\n",
    "plt.ylabel(\"Net Income / Total Assets\")\n",
    "plt.title(\"Distribution of Net Income to Total Assets, by Class\");"
   ]
  },
  {
   "cell_type": "code",
   "execution_count": 8,
   "id": "99e1e8d6-b962-485a-a8f5-e85366463914",
   "metadata": {},
   "outputs": [
    {
     "data": {
      "text/plain": [
       "count    6,137\n",
       "mean         1\n",
       "std          0\n",
       "min          0\n",
       "25%          1\n",
       "50%          1\n",
       "75%          1\n",
       "max          1\n",
       "Name: feat_86, dtype: object"
      ]
     },
     "execution_count": 8,
     "metadata": {},
     "output_type": "execute_result"
    }
   ],
   "source": [
    "# Summary statistics for `feat_86`\n",
    "df['feat_86'].describe().apply(\"{0:,.0f}\".format)"
   ]
  },
  {
   "cell_type": "markdown",
   "id": "6a2b0f01-5327-4c5b-a168-c728c451fa85",
   "metadata": {},
   "source": [
    "Note that the median is around 1, but the mean is also 1. That suggests that this feature is symmetric. I'll create an histogram to see what the distribution actually looks like."
   ]
  },
  {
   "cell_type": "code",
   "execution_count": 9,
   "id": "8ad005d7-812e-4403-ad6b-f597286a0856",
   "metadata": {},
   "outputs": [
    {
     "data": {
      "image/png": "[encoded data removed]",
      "text/plain": [
       "<Figure size 432x288 with 1 Axes>"
      ]
     },
     "metadata": {
      "needs_background": "light"
     },
     "output_type": "display_data"
    }
   ],
   "source": [
    "# Plot histogram of `feat_86`\n",
    "df[\"feat_86\"].hist()\n",
    "plt.xlabel(\"Net Income / Total Assets\")\n",
    "plt.ylabel(\"Count\"),\n",
    "plt.title(\"Distribution of Net Income / Total Assets\");"
   ]
  },
  {
   "cell_type": "markdown",
   "id": "566e447a-de6c-48e1-9ae9-a5c09c84beff",
   "metadata": {},
   "source": [
    "Next for \"feat_10\""
   ]
  },
  {
   "cell_type": "code",
   "execution_count": 10,
   "id": "81c0d607-749c-4c48-94a8-e2f966c42c89",
   "metadata": {},
   "outputs": [
    {
     "data": {
      "image/png": "[encoded data removed]",
      "text/plain": [
       "<Figure size 432x288 with 1 Axes>"
      ]
     },
     "metadata": {
      "needs_background": "light"
     },
     "output_type": "display_data"
    }
   ],
   "source": [
    "#Use seaborn to create a boxplot that shows the distributions of the \"feat_10\" column for both groups in the \"bankrupt\" column\n",
    "# Create boxplot\n",
    "# Create clipped boxplot\n",
    "q1,q9 = df[\"feat_10\"].quantile([0.1,0.9])\n",
    "mask = df[\"feat_10\"].between(q1,q9)\n",
    "sns.boxplot(x=\"bankrupt\",y=\"feat_10\",data=df[mask])\n",
    "plt.xlabel(\"Bankrupt\")\n",
    "plt.ylabel(\"Continuous interest rate (after tax)\")\n",
    "plt.title(\"Distribution of Continuous interest rate (after tax), by Bankruptcy Status\");"
   ]
  },
  {
   "cell_type": "code",
   "execution_count": 11,
   "id": "e19af4ee-6868-4128-9318-d4de82b4518e",
   "metadata": {},
   "outputs": [
    {
     "data": {
      "text/plain": [
       "count    6,137\n",
       "mean         1\n",
       "std          0\n",
       "min          0\n",
       "25%          1\n",
       "50%          1\n",
       "75%          1\n",
       "max          1\n",
       "Name: feat_10, dtype: object"
      ]
     },
     "execution_count": 11,
     "metadata": {},
     "output_type": "execute_result"
    }
   ],
   "source": [
    "# Summary statistics for `feat_10`\n",
    "df['feat_10'].describe().apply(\"{0:,.0f}\".format)"
   ]
  },
  {
   "cell_type": "markdown",
   "id": "4c2c9cd5-1b67-4276-9039-3670fdbca514",
   "metadata": {},
   "source": [
    "Just like \"feat_86\" Note that the median is around 1, but the mean is also 1. That suggests that this feature is symmetric. I'll create an histogram to see what the distribution actually looks like."
   ]
  },
  {
   "cell_type": "code",
   "execution_count": 12,
   "id": "aba61e66-2665-474a-a4f0-22e4eb439ea6",
   "metadata": {},
   "outputs": [
    {
     "data": {
      "image/png": "[encoded data removed]",
      "text/plain": [
       "<Figure size 432x288 with 1 Axes>"
      ]
     },
     "metadata": {
      "needs_background": "light"
     },
     "output_type": "display_data"
    }
   ],
   "source": [
    "# Plot histogram of `feat_10`\n",
    "df[\"feat_10\"].hist()\n",
    "plt.xlabel(\"Continuous interest rate (after tax)\")\n",
    "plt.ylabel(\"Count\"),\n",
    "plt.title(\"Distribution Continuous interest rate (after tax)\");"
   ]
  },
  {
   "cell_type": "markdown",
   "id": "4bb01e14-951d-4c09-baf3-4015aea29630",
   "metadata": {},
   "source": [
    "Another important consideration for model selection is whether there are any issues with multicollinearity in my model. I'llcheck."
   ]
  },
  {
   "cell_type": "code",
   "execution_count": 13,
   "id": "e73eab40-71b1-41bf-8bc1-1f1f0f31eb1d",
   "metadata": {},
   "outputs": [
    {
     "data": {
      "image/png": "[encoded data removed]",
      "text/plain": [
       "<Figure size 432x288 with 2 Axes>"
      ]
     },
     "metadata": {
      "needs_background": "light"
     },
     "output_type": "display_data"
    }
   ],
   "source": [
    "# Plot a correlation heatmap of features in df\n",
    "corr = df.drop(columns=\"bankrupt\").corr()\n",
    "sns.heatmap(corr);"
   ]
  },
  {
   "cell_type": "markdown",
   "id": "f74ea318-1f00-4a27-8432-b831f80f6013",
   "metadata": {},
   "source": [
    "Some keypoints from this EDA. First, our data is imbalanced. This is something I'll need to address in my data preparation. Second, all of my model features have  no missing values. And since the features are symmetric,  imputation strategy is not required. Finally, I have autocorrelation issues, which means that I would not consider using a linear model, and try a tree-based model instead."
   ]
  },
  {
   "cell_type": "markdown",
   "id": "fa3c4b2d-7fa1-47b4-9fed-8878b9c7ab25",
   "metadata": {},
   "source": [
    "## Split"
   ]
  },
  {
   "cell_type": "markdown",
   "id": "488deb77-c628-4a31-965c-e31afb66c5c2",
   "metadata": {},
   "source": [
    "Next I'll Create your feature matrix X and target vector y. My target is \"bankrupt\""
   ]
  },
  {
   "cell_type": "code",
   "execution_count": 14,
   "id": "6b40e059-4fbe-46a3-8c10-fe862d2b5650",
   "metadata": {},
   "outputs": [
    {
     "name": "stdout",
     "output_type": "stream",
     "text": [
      "X shape: (6137, 95)\n",
      "y shape: (6137,)\n"
     ]
    }
   ],
   "source": [
    "target = \"bankrupt\"\n",
    "X = df.drop(columns=target)\n",
    "y = df[target]\n",
    "\n",
    "print(\"X shape:\", X.shape)\n",
    "print(\"y shape:\", y.shape)"
   ]
  },
  {
   "cell_type": "markdown",
   "id": "366aae12-d4fb-4992-be18-cf6e5e267767",
   "metadata": {},
   "source": [
    "In order to make sure that my model can generalize, I'll need to put aside a test set that I'll use to evaluate our model once it's trained."
   ]
  },
  {
   "cell_type": "markdown",
   "id": "1deed1ba-c020-4e38-8a37-919e475945a0",
   "metadata": {},
   "source": [
    "Next I'll Divide my data (X and y) into training and test sets using a randomized train-test split. my validation set is 20% of your total data."
   ]
  },
  {
   "cell_type": "code",
   "execution_count": 15,
   "id": "1def9d80-f4d0-4931-bba0-13646323bb9c",
   "metadata": {},
   "outputs": [
    {
     "name": "stdout",
     "output_type": "stream",
     "text": [
      "X_train shape: (4909, 95)\n",
      "y_train shape: (4909,)\n",
      "X_test shape: (1228, 95)\n",
      "y_test shape: (1228,)\n"
     ]
    }
   ],
   "source": [
    "X_train, X_test, y_train, y_test = train_test_split(X,y, test_size=0.2, random_state=42)    \n",
    "\n",
    "print(\"X_train shape:\", X_train.shape)\n",
    "print(\"y_train shape:\", y_train.shape)\n",
    "print(\"X_test shape:\", X_test.shape)\n",
    "print(\"y_test shape:\", y_test.shape)"
   ]
  },
  {
   "cell_type": "markdown",
   "id": "2ea837fa-1fdc-4a27-900b-e04864950204",
   "metadata": {},
   "source": [
    "## Resample"
   ]
  },
  {
   "cell_type": "markdown",
   "id": "1a7788c3-3c7e-4156-8682-cd2c37ef2870",
   "metadata": {},
   "source": [
    "Now that I've split my data into training and validation sets, I can address the class imbalance I saw during my EDA. One strategy is to resample the training data."
   ]
  },
  {
   "cell_type": "markdown",
   "id": "29249cd4-6b61-4084-93ef-97b5722aac40",
   "metadata": {},
   "source": [
    "### Under Sampling"
   ]
  },
  {
   "cell_type": "markdown",
   "id": "47e63f1f-e26d-451b-8440-82dc3161cf33",
   "metadata": {},
   "source": [
    "When data is imbalanced in different classes, one way we can balance it is reducing the number of observations in the majority class. This is called under-sampling."
   ]
  },
  {
   "cell_type": "code",
   "execution_count": 16,
   "id": "c64d0029-8b7a-430f-8dfe-f14ca83ba32e",
   "metadata": {},
   "outputs": [
    {
     "name": "stdout",
     "output_type": "stream",
     "text": [
      "(306, 95)\n"
     ]
    },
    {
     "data": {
      "text/html": [
       "<div>\n",
       "<style scoped>\n",
       "    .dataframe tbody tr th:only-of-type {\n",
       "        vertical-align: middle;\n",
       "    }\n",
       "\n",
       "    .dataframe tbody tr th {\n",
       "        vertical-align: top;\n",
       "    }\n",
       "\n",
       "    .dataframe thead th {\n",
       "        text-align: right;\n",
       "    }\n",
       "</style>\n",
       "<table border=\"1\" class=\"dataframe\">\n",
       "  <thead>\n",
       "    <tr style=\"text-align: right;\">\n",
       "      <th></th>\n",
       "      <th>feat_1</th>\n",
       "      <th>feat_2</th>\n",
       "      <th>feat_3</th>\n",
       "      <th>feat_4</th>\n",
       "      <th>feat_5</th>\n",
       "      <th>feat_6</th>\n",
       "      <th>feat_7</th>\n",
       "      <th>feat_8</th>\n",
       "      <th>feat_9</th>\n",
       "      <th>feat_10</th>\n",
       "      <th>...</th>\n",
       "      <th>feat_86</th>\n",
       "      <th>feat_87</th>\n",
       "      <th>feat_88</th>\n",
       "      <th>feat_89</th>\n",
       "      <th>feat_90</th>\n",
       "      <th>feat_91</th>\n",
       "      <th>feat_92</th>\n",
       "      <th>feat_93</th>\n",
       "      <th>feat_94</th>\n",
       "      <th>feat_95</th>\n",
       "    </tr>\n",
       "  </thead>\n",
       "  <tbody>\n",
       "    <tr>\n",
       "      <th>0</th>\n",
       "      <td>0.482572</td>\n",
       "      <td>0.550262</td>\n",
       "      <td>0.535789</td>\n",
       "      <td>0.613918</td>\n",
       "      <td>0.613918</td>\n",
       "      <td>0.999156</td>\n",
       "      <td>0.797578</td>\n",
       "      <td>0.809489</td>\n",
       "      <td>0.303462</td>\n",
       "      <td>0.781796</td>\n",
       "      <td>...</td>\n",
       "      <td>0.805946</td>\n",
       "      <td>0.011432</td>\n",
       "      <td>0.621954</td>\n",
       "      <td>0.613916</td>\n",
       "      <td>0.840860</td>\n",
       "      <td>0.279876</td>\n",
       "      <td>0.026930</td>\n",
       "      <td>0.565745</td>\n",
       "      <td>1</td>\n",
       "      <td>0.028865</td>\n",
       "    </tr>\n",
       "    <tr>\n",
       "      <th>1</th>\n",
       "      <td>0.501146</td>\n",
       "      <td>0.561710</td>\n",
       "      <td>0.555758</td>\n",
       "      <td>0.605017</td>\n",
       "      <td>0.605017</td>\n",
       "      <td>0.999055</td>\n",
       "      <td>0.797478</td>\n",
       "      <td>0.809394</td>\n",
       "      <td>0.303498</td>\n",
       "      <td>0.781661</td>\n",
       "      <td>...</td>\n",
       "      <td>0.810046</td>\n",
       "      <td>0.002660</td>\n",
       "      <td>0.623756</td>\n",
       "      <td>0.605018</td>\n",
       "      <td>0.841375</td>\n",
       "      <td>0.281707</td>\n",
       "      <td>0.027014</td>\n",
       "      <td>0.566035</td>\n",
       "      <td>1</td>\n",
       "      <td>0.024010</td>\n",
       "    </tr>\n",
       "    <tr>\n",
       "      <th>2</th>\n",
       "      <td>0.507922</td>\n",
       "      <td>0.561655</td>\n",
       "      <td>0.556240</td>\n",
       "      <td>0.618155</td>\n",
       "      <td>0.618155</td>\n",
       "      <td>0.999086</td>\n",
       "      <td>0.797477</td>\n",
       "      <td>0.809390</td>\n",
       "      <td>0.303432</td>\n",
       "      <td>0.781651</td>\n",
       "      <td>...</td>\n",
       "      <td>0.814528</td>\n",
       "      <td>0.004703</td>\n",
       "      <td>0.623971</td>\n",
       "      <td>0.618154</td>\n",
       "      <td>0.841038</td>\n",
       "      <td>0.275810</td>\n",
       "      <td>0.026805</td>\n",
       "      <td>0.565224</td>\n",
       "      <td>1</td>\n",
       "      <td>0.096008</td>\n",
       "    </tr>\n",
       "    <tr>\n",
       "      <th>3</th>\n",
       "      <td>0.542242</td>\n",
       "      <td>0.598397</td>\n",
       "      <td>0.585310</td>\n",
       "      <td>0.607309</td>\n",
       "      <td>0.607432</td>\n",
       "      <td>0.999069</td>\n",
       "      <td>0.797540</td>\n",
       "      <td>0.809429</td>\n",
       "      <td>0.303579</td>\n",
       "      <td>0.781697</td>\n",
       "      <td>...</td>\n",
       "      <td>0.829716</td>\n",
       "      <td>0.002456</td>\n",
       "      <td>0.623817</td>\n",
       "      <td>0.607311</td>\n",
       "      <td>0.843257</td>\n",
       "      <td>0.281792</td>\n",
       "      <td>0.026806</td>\n",
       "      <td>0.565229</td>\n",
       "      <td>1</td>\n",
       "      <td>0.023845</td>\n",
       "    </tr>\n",
       "    <tr>\n",
       "      <th>4</th>\n",
       "      <td>0.581729</td>\n",
       "      <td>0.631215</td>\n",
       "      <td>0.620429</td>\n",
       "      <td>0.617327</td>\n",
       "      <td>0.617327</td>\n",
       "      <td>0.999250</td>\n",
       "      <td>0.797721</td>\n",
       "      <td>0.809562</td>\n",
       "      <td>0.303517</td>\n",
       "      <td>0.781833</td>\n",
       "      <td>...</td>\n",
       "      <td>0.851936</td>\n",
       "      <td>0.001350</td>\n",
       "      <td>0.624851</td>\n",
       "      <td>0.617322</td>\n",
       "      <td>0.843088</td>\n",
       "      <td>0.275912</td>\n",
       "      <td>0.026791</td>\n",
       "      <td>0.565159</td>\n",
       "      <td>1</td>\n",
       "      <td>0.088917</td>\n",
       "    </tr>\n",
       "  </tbody>\n",
       "</table>\n",
       "<p>5 rows × 95 columns</p>\n",
       "</div>"
      ],
      "text/plain": [
       "     feat_1    feat_2    feat_3    feat_4    feat_5    feat_6    feat_7  \\\n",
       "0  0.482572  0.550262  0.535789  0.613918  0.613918  0.999156  0.797578   \n",
       "1  0.501146  0.561710  0.555758  0.605017  0.605017  0.999055  0.797478   \n",
       "2  0.507922  0.561655  0.556240  0.618155  0.618155  0.999086  0.797477   \n",
       "3  0.542242  0.598397  0.585310  0.607309  0.607432  0.999069  0.797540   \n",
       "4  0.581729  0.631215  0.620429  0.617327  0.617327  0.999250  0.797721   \n",
       "\n",
       "     feat_8    feat_9   feat_10  ...   feat_86   feat_87   feat_88   feat_89  \\\n",
       "0  0.809489  0.303462  0.781796  ...  0.805946  0.011432  0.621954  0.613916   \n",
       "1  0.809394  0.303498  0.781661  ...  0.810046  0.002660  0.623756  0.605018   \n",
       "2  0.809390  0.303432  0.781651  ...  0.814528  0.004703  0.623971  0.618154   \n",
       "3  0.809429  0.303579  0.781697  ...  0.829716  0.002456  0.623817  0.607311   \n",
       "4  0.809562  0.303517  0.781833  ...  0.851936  0.001350  0.624851  0.617322   \n",
       "\n",
       "    feat_90   feat_91   feat_92   feat_93  feat_94   feat_95  \n",
       "0  0.840860  0.279876  0.026930  0.565745        1  0.028865  \n",
       "1  0.841375  0.281707  0.027014  0.566035        1  0.024010  \n",
       "2  0.841038  0.275810  0.026805  0.565224        1  0.096008  \n",
       "3  0.843257  0.281792  0.026806  0.565229        1  0.023845  \n",
       "4  0.843088  0.275912  0.026791  0.565159        1  0.088917  \n",
       "\n",
       "[5 rows x 95 columns]"
      ]
     },
     "execution_count": 16,
     "metadata": {},
     "output_type": "execute_result"
    }
   ],
   "source": [
    "under_sampler = RandomUnderSampler(random_state=42)\n",
    "X_train_under, y_train_under = under_sampler.fit_resample(X_train, y_train)\n",
    "print(X_train_under.shape)\n",
    "X_train_under.head()"
   ]
  },
  {
   "cell_type": "markdown",
   "id": "762274d9-4097-4eea-a525-f08b60a5925b",
   "metadata": {},
   "source": [
    "### Over Sampling"
   ]
  },
  {
   "cell_type": "markdown",
   "id": "ae0545fb-4deb-4a55-a520-2e384305da07",
   "metadata": {},
   "source": [
    "Over-sampling is the opposite of under-sampling. Instead of reducing the majority class, over-sampling increases the number of observations in the minority class by randomly making copies of the existing observations."
   ]
  },
  {
   "cell_type": "code",
   "execution_count": 17,
   "id": "728d4db6-8849-4938-b88b-e8bd976f4c3a",
   "metadata": {},
   "outputs": [
    {
     "name": "stdout",
     "output_type": "stream",
     "text": [
      "(9512, 95)\n"
     ]
    },
    {
     "data": {
      "text/html": [
       "<div>\n",
       "<style scoped>\n",
       "    .dataframe tbody tr th:only-of-type {\n",
       "        vertical-align: middle;\n",
       "    }\n",
       "\n",
       "    .dataframe tbody tr th {\n",
       "        vertical-align: top;\n",
       "    }\n",
       "\n",
       "    .dataframe thead th {\n",
       "        text-align: right;\n",
       "    }\n",
       "</style>\n",
       "<table border=\"1\" class=\"dataframe\">\n",
       "  <thead>\n",
       "    <tr style=\"text-align: right;\">\n",
       "      <th></th>\n",
       "      <th>feat_1</th>\n",
       "      <th>feat_2</th>\n",
       "      <th>feat_3</th>\n",
       "      <th>feat_4</th>\n",
       "      <th>feat_5</th>\n",
       "      <th>feat_6</th>\n",
       "      <th>feat_7</th>\n",
       "      <th>feat_8</th>\n",
       "      <th>feat_9</th>\n",
       "      <th>feat_10</th>\n",
       "      <th>...</th>\n",
       "      <th>feat_86</th>\n",
       "      <th>feat_87</th>\n",
       "      <th>feat_88</th>\n",
       "      <th>feat_89</th>\n",
       "      <th>feat_90</th>\n",
       "      <th>feat_91</th>\n",
       "      <th>feat_92</th>\n",
       "      <th>feat_93</th>\n",
       "      <th>feat_94</th>\n",
       "      <th>feat_95</th>\n",
       "    </tr>\n",
       "  </thead>\n",
       "  <tbody>\n",
       "    <tr>\n",
       "      <th>0</th>\n",
       "      <td>0.535855</td>\n",
       "      <td>0.599160</td>\n",
       "      <td>0.594411</td>\n",
       "      <td>0.627099</td>\n",
       "      <td>0.627099</td>\n",
       "      <td>0.999220</td>\n",
       "      <td>0.797686</td>\n",
       "      <td>0.809591</td>\n",
       "      <td>0.303518</td>\n",
       "      <td>0.781865</td>\n",
       "      <td>...</td>\n",
       "      <td>0.834091</td>\n",
       "      <td>0.022025</td>\n",
       "      <td>0.624364</td>\n",
       "      <td>0.627101</td>\n",
       "      <td>0.841977</td>\n",
       "      <td>0.275384</td>\n",
       "      <td>0.026791</td>\n",
       "      <td>0.565158</td>\n",
       "      <td>1</td>\n",
       "      <td>0.147943</td>\n",
       "    </tr>\n",
       "    <tr>\n",
       "      <th>1</th>\n",
       "      <td>0.554136</td>\n",
       "      <td>0.612734</td>\n",
       "      <td>0.595000</td>\n",
       "      <td>0.607388</td>\n",
       "      <td>0.607388</td>\n",
       "      <td>0.999120</td>\n",
       "      <td>0.797614</td>\n",
       "      <td>0.809483</td>\n",
       "      <td>0.303600</td>\n",
       "      <td>0.781754</td>\n",
       "      <td>...</td>\n",
       "      <td>0.840293</td>\n",
       "      <td>0.002407</td>\n",
       "      <td>0.624548</td>\n",
       "      <td>0.607385</td>\n",
       "      <td>0.842645</td>\n",
       "      <td>0.276532</td>\n",
       "      <td>0.026791</td>\n",
       "      <td>0.565158</td>\n",
       "      <td>1</td>\n",
       "      <td>0.062544</td>\n",
       "    </tr>\n",
       "    <tr>\n",
       "      <th>2</th>\n",
       "      <td>0.549554</td>\n",
       "      <td>0.603467</td>\n",
       "      <td>0.599122</td>\n",
       "      <td>0.620166</td>\n",
       "      <td>0.620166</td>\n",
       "      <td>0.999119</td>\n",
       "      <td>0.797569</td>\n",
       "      <td>0.809470</td>\n",
       "      <td>0.303524</td>\n",
       "      <td>0.781740</td>\n",
       "      <td>...</td>\n",
       "      <td>0.840403</td>\n",
       "      <td>0.000840</td>\n",
       "      <td>0.624010</td>\n",
       "      <td>0.620163</td>\n",
       "      <td>0.842873</td>\n",
       "      <td>0.277249</td>\n",
       "      <td>0.026800</td>\n",
       "      <td>0.565200</td>\n",
       "      <td>1</td>\n",
       "      <td>0.047929</td>\n",
       "    </tr>\n",
       "    <tr>\n",
       "      <th>3</th>\n",
       "      <td>0.543801</td>\n",
       "      <td>0.603249</td>\n",
       "      <td>0.606992</td>\n",
       "      <td>0.622515</td>\n",
       "      <td>0.622515</td>\n",
       "      <td>0.999259</td>\n",
       "      <td>0.797728</td>\n",
       "      <td>0.809649</td>\n",
       "      <td>0.303510</td>\n",
       "      <td>0.781930</td>\n",
       "      <td>...</td>\n",
       "      <td>0.831514</td>\n",
       "      <td>0.006176</td>\n",
       "      <td>0.626775</td>\n",
       "      <td>0.622513</td>\n",
       "      <td>0.842989</td>\n",
       "      <td>0.280013</td>\n",
       "      <td>0.026839</td>\n",
       "      <td>0.565375</td>\n",
       "      <td>1</td>\n",
       "      <td>0.028386</td>\n",
       "    </tr>\n",
       "    <tr>\n",
       "      <th>4</th>\n",
       "      <td>0.498659</td>\n",
       "      <td>0.562364</td>\n",
       "      <td>0.546978</td>\n",
       "      <td>0.603670</td>\n",
       "      <td>0.603670</td>\n",
       "      <td>0.998904</td>\n",
       "      <td>0.797584</td>\n",
       "      <td>0.809459</td>\n",
       "      <td>0.304000</td>\n",
       "      <td>0.781713</td>\n",
       "      <td>...</td>\n",
       "      <td>0.811988</td>\n",
       "      <td>0.004256</td>\n",
       "      <td>0.623674</td>\n",
       "      <td>0.603669</td>\n",
       "      <td>0.841105</td>\n",
       "      <td>0.277628</td>\n",
       "      <td>0.026897</td>\n",
       "      <td>0.565618</td>\n",
       "      <td>1</td>\n",
       "      <td>0.043080</td>\n",
       "    </tr>\n",
       "  </tbody>\n",
       "</table>\n",
       "<p>5 rows × 95 columns</p>\n",
       "</div>"
      ],
      "text/plain": [
       "     feat_1    feat_2    feat_3    feat_4    feat_5    feat_6    feat_7  \\\n",
       "0  0.535855  0.599160  0.594411  0.627099  0.627099  0.999220  0.797686   \n",
       "1  0.554136  0.612734  0.595000  0.607388  0.607388  0.999120  0.797614   \n",
       "2  0.549554  0.603467  0.599122  0.620166  0.620166  0.999119  0.797569   \n",
       "3  0.543801  0.603249  0.606992  0.622515  0.622515  0.999259  0.797728   \n",
       "4  0.498659  0.562364  0.546978  0.603670  0.603670  0.998904  0.797584   \n",
       "\n",
       "     feat_8    feat_9   feat_10  ...   feat_86   feat_87   feat_88   feat_89  \\\n",
       "0  0.809591  0.303518  0.781865  ...  0.834091  0.022025  0.624364  0.627101   \n",
       "1  0.809483  0.303600  0.781754  ...  0.840293  0.002407  0.624548  0.607385   \n",
       "2  0.809470  0.303524  0.781740  ...  0.840403  0.000840  0.624010  0.620163   \n",
       "3  0.809649  0.303510  0.781930  ...  0.831514  0.006176  0.626775  0.622513   \n",
       "4  0.809459  0.304000  0.781713  ...  0.811988  0.004256  0.623674  0.603669   \n",
       "\n",
       "    feat_90   feat_91   feat_92   feat_93  feat_94   feat_95  \n",
       "0  0.841977  0.275384  0.026791  0.565158        1  0.147943  \n",
       "1  0.842645  0.276532  0.026791  0.565158        1  0.062544  \n",
       "2  0.842873  0.277249  0.026800  0.565200        1  0.047929  \n",
       "3  0.842989  0.280013  0.026839  0.565375        1  0.028386  \n",
       "4  0.841105  0.277628  0.026897  0.565618        1  0.043080  \n",
       "\n",
       "[5 rows x 95 columns]"
      ]
     },
     "execution_count": 17,
     "metadata": {},
     "output_type": "execute_result"
    }
   ],
   "source": [
    "over_sampler = RandomOverSampler(random_state=42)\n",
    "X_train_over, y_train_over = over_sampler.fit_resample(X_train,y_train)\n",
    "print(X_train_over.shape)\n",
    "X_train_over.head()"
   ]
  },
  {
   "cell_type": "markdown",
   "id": "60771ae4-ee2b-4207-afda-24afc1a1ca67",
   "metadata": {},
   "source": [
    "# Build Model"
   ]
  },
  {
   "cell_type": "markdown",
   "id": "0a59997a-69a6-44ea-8cd0-e84f3f6ab985",
   "metadata": {},
   "source": [
    "## Baseline"
   ]
  },
  {
   "cell_type": "markdown",
   "id": "6fb51260-fe66-4cd2-99cd-d7546324ec1c",
   "metadata": {},
   "source": [
    "A natural choice for a metric for classification is accuracy. Accuracy is equal to the number of observations you correctly classified over all observations"
   ]
  },
  {
   "cell_type": "code",
   "execution_count": 18,
   "id": "75ddbf09-824a-4971-90d2-64717734d581",
   "metadata": {},
   "outputs": [
    {
     "name": "stdout",
     "output_type": "stream",
     "text": [
      "Baseline Accuracy: 0.9688\n"
     ]
    }
   ],
   "source": [
    "acc_baseline = y_train.value_counts(normalize=True).max()\n",
    "print(\"Baseline Accuracy:\", round(acc_baseline, 4))"
   ]
  },
  {
   "cell_type": "markdown",
   "id": "07a3ad42-c6e6-46d2-a9b6-37ddbcd012c2",
   "metadata": {},
   "source": [
    "Note here that, because my classes are imbalanced, the baseline accuracy is very high. Note that, even if my trained model gets a high validation accuracy score, that doesn't mean it's actually good."
   ]
  },
  {
   "cell_type": "markdown",
   "id": "1655a172-ee13-4763-930e-02250a3b67eb",
   "metadata": {},
   "source": [
    "## Iterate"
   ]
  },
  {
   "cell_type": "markdown",
   "id": "276f243a-92e3-4643-8b23-edc362e32274",
   "metadata": {},
   "source": [
    "Now that I have a baseline, I'll build a model to see if we can beat it."
   ]
  },
  {
   "cell_type": "markdown",
   "id": "f1d76992-ef4c-4ac7-bd67-567d9b16e91a",
   "metadata": {},
   "source": [
    "Next I'll Create three identical models: model_reg, model_under and model_over.followed by a DecisionTreeClassifier.I'll  Train model_reg using the unaltered training data. For model_under, use the undersampled data. For model_over, use the oversampled data."
   ]
  },
  {
   "cell_type": "code",
   "execution_count": 19,
   "id": "10eaa7ad-8ed0-48d2-a267-f20265219752",
   "metadata": {},
   "outputs": [
    {
     "data": {
      "text/html": [
       "<style>#sk-container-id-1 {color: black;background-color: white;}#sk-container-id-1 pre{padding: 0;}#sk-container-id-1 div.sk-toggleable {background-color: white;}#sk-container-id-1 label.sk-toggleable__label {cursor: pointer;display: block;width: 100%;margin-bottom: 0;padding: 0.3em;box-sizing: border-box;text-align: center;}#sk-container-id-1 label.sk-toggleable__label-arrow:before {content: \"▸\";float: left;margin-right: 0.25em;color: #696969;}#sk-container-id-1 label.sk-toggleable__label-arrow:hover:before {color: black;}#sk-container-id-1 div.sk-estimator:hover label.sk-toggleable__label-arrow:before {color: black;}#sk-container-id-1 div.sk-toggleable__content {max-height: 0;max-width: 0;overflow: hidden;text-align: left;background-color: #f0f8ff;}#sk-container-id-1 div.sk-toggleable__content pre {margin: 0.2em;color: black;border-radius: 0.25em;background-color: #f0f8ff;}#sk-container-id-1 input.sk-toggleable__control:checked~div.sk-toggleable__content {max-height: 200px;max-width: 100%;overflow: auto;}#sk-container-id-1 input.sk-toggleable__control:checked~label.sk-toggleable__label-arrow:before {content: \"▾\";}#sk-container-id-1 div.sk-estimator input.sk-toggleable__control:checked~label.sk-toggleable__label {background-color: #d4ebff;}#sk-container-id-1 div.sk-label input.sk-toggleable__control:checked~label.sk-toggleable__label {background-color: #d4ebff;}#sk-container-id-1 input.sk-hidden--visually {border: 0;clip: rect(1px 1px 1px 1px);clip: rect(1px, 1px, 1px, 1px);height: 1px;margin: -1px;overflow: hidden;padding: 0;position: absolute;width: 1px;}#sk-container-id-1 div.sk-estimator {font-family: monospace;background-color: #f0f8ff;border: 1px dotted black;border-radius: 0.25em;box-sizing: border-box;margin-bottom: 0.5em;}#sk-container-id-1 div.sk-estimator:hover {background-color: #d4ebff;}#sk-container-id-1 div.sk-parallel-item::after {content: \"\";width: 100%;border-bottom: 1px solid gray;flex-grow: 1;}#sk-container-id-1 div.sk-label:hover label.sk-toggleable__label {background-color: #d4ebff;}#sk-container-id-1 div.sk-serial::before {content: \"\";position: absolute;border-left: 1px solid gray;box-sizing: border-box;top: 0;bottom: 0;left: 50%;z-index: 0;}#sk-container-id-1 div.sk-serial {display: flex;flex-direction: column;align-items: center;background-color: white;padding-right: 0.2em;padding-left: 0.2em;position: relative;}#sk-container-id-1 div.sk-item {position: relative;z-index: 1;}#sk-container-id-1 div.sk-parallel {display: flex;align-items: stretch;justify-content: center;background-color: white;position: relative;}#sk-container-id-1 div.sk-item::before, #sk-container-id-1 div.sk-parallel-item::before {content: \"\";position: absolute;border-left: 1px solid gray;box-sizing: border-box;top: 0;bottom: 0;left: 50%;z-index: -1;}#sk-container-id-1 div.sk-parallel-item {display: flex;flex-direction: column;z-index: 1;position: relative;background-color: white;}#sk-container-id-1 div.sk-parallel-item:first-child::after {align-self: flex-end;width: 50%;}#sk-container-id-1 div.sk-parallel-item:last-child::after {align-self: flex-start;width: 50%;}#sk-container-id-1 div.sk-parallel-item:only-child::after {width: 0;}#sk-container-id-1 div.sk-dashed-wrapped {border: 1px dashed gray;margin: 0 0.4em 0.5em 0.4em;box-sizing: border-box;padding-bottom: 0.4em;background-color: white;}#sk-container-id-1 div.sk-label label {font-family: monospace;font-weight: bold;display: inline-block;line-height: 1.2em;}#sk-container-id-1 div.sk-label-container {text-align: center;}#sk-container-id-1 div.sk-container {/* jupyter's `normalize.less` sets `[hidden] { display: none; }` but bootstrap.min.css set `[hidden] { display: none !important; }` so we also need the `!important` here to be able to override the default hidden behavior on the sphinx rendered scikit-learn.org. See: https://github.com/scikit-learn/scikit-learn/issues/21755 */display: inline-block !important;position: relative;}#sk-container-id-1 div.sk-text-repr-fallback {display: none;}</style><div id=\"sk-container-id-1\" class=\"sk-top-container\"><div class=\"sk-text-repr-fallback\"><pre>Pipeline(steps=[(&#x27;decisiontreeclassifier&#x27;,\n",
       "                 DecisionTreeClassifier(random_state=42))])</pre><b>In a Jupyter environment, please rerun this cell to show the HTML representation or trust the notebook. <br />On GitHub, the HTML representation is unable to render, please try loading this page with nbviewer.org.</b></div><div class=\"sk-container\" hidden><div class=\"sk-item sk-dashed-wrapped\"><div class=\"sk-label-container\"><div class=\"sk-label sk-toggleable\"><input class=\"sk-toggleable__control sk-hidden--visually\" id=\"sk-estimator-id-1\" type=\"checkbox\" ><label for=\"sk-estimator-id-1\" class=\"sk-toggleable__label sk-toggleable__label-arrow\">Pipeline</label><div class=\"sk-toggleable__content\"><pre>Pipeline(steps=[(&#x27;decisiontreeclassifier&#x27;,\n",
       "                 DecisionTreeClassifier(random_state=42))])</pre></div></div></div><div class=\"sk-serial\"><div class=\"sk-item\"><div class=\"sk-estimator sk-toggleable\"><input class=\"sk-toggleable__control sk-hidden--visually\" id=\"sk-estimator-id-2\" type=\"checkbox\" ><label for=\"sk-estimator-id-2\" class=\"sk-toggleable__label sk-toggleable__label-arrow\">DecisionTreeClassifier</label><div class=\"sk-toggleable__content\"><pre>DecisionTreeClassifier(random_state=42)</pre></div></div></div></div></div></div></div>"
      ],
      "text/plain": [
       "Pipeline(steps=[('decisiontreeclassifier',\n",
       "                 DecisionTreeClassifier(random_state=42))])"
      ]
     },
     "execution_count": 19,
     "metadata": {},
     "output_type": "execute_result"
    }
   ],
   "source": [
    "# Fit on `X_train`, `y_train`\n",
    "model_reg = make_pipeline(\n",
    " DecisionTreeClassifier(random_state=42)\n",
    ")\n",
    "model_reg.fit(X_train, y_train)\n",
    "\n",
    "# Fit on `X_train_under`, `y_train_under`\n",
    "model_under =  make_pipeline(\n",
    " DecisionTreeClassifier(random_state=42)\n",
    ")\n",
    "model_under.fit(X_train_under, y_train_under)\n",
    "\n",
    "# Fit on `X_train_over`, `y_train_over`\n",
    "model_over =  make_pipeline(\n",
    " DecisionTreeClassifier(random_state=42)\n",
    ")\n",
    "model_over.fit(X_train_over, y_train_over)"
   ]
  },
  {
   "cell_type": "markdown",
   "id": "a5873cfc-3687-4c1d-9b17-d0cb5c1419b7",
   "metadata": {},
   "source": [
    "Next I'll Calculate training and test accuracy for your three models."
   ]
  },
  {
   "cell_type": "code",
   "execution_count": 20,
   "id": "aaebdccc-6b61-444c-b77e-bad35cb38186",
   "metadata": {},
   "outputs": [
    {
     "name": "stdout",
     "output_type": "stream",
     "text": [
      "Training Accuracy: 1.0\n",
      "Test Accuracy: 0.9593\n",
      "Training Accuracy: 0.7721\n",
      "Test Accuracy: 0.7606\n",
      "Training Accuracy: 1.0\n",
      "Test Accuracy: 0.9642\n"
     ]
    }
   ],
   "source": [
    "for m in [model_reg, model_under, model_over]:\n",
    "    acc_train = m.score(X_train,y_train)\n",
    "    acc_test = m.score(X_test,y_test)\n",
    "\n",
    "    print(\"Training Accuracy:\", round(acc_train, 4))\n",
    "    print(\"Test Accuracy:\", round(acc_test, 4))"
   ]
  },
  {
   "cell_type": "markdown",
   "id": "a27a0448-12c1-4564-983b-e9766a29f3f2",
   "metadata": {},
   "source": [
    "It can be seen that the model_over gave the best training and test accuracy."
   ]
  },
  {
   "cell_type": "markdown",
   "id": "0fe31371-1809-48e8-b0e6-4fa021e2385b",
   "metadata": {},
   "source": [
    "As we mentioned earlier, \"good\" accuracy scores don't tell us much about the model's performance when dealing with imbalanced data. So instead of looking at what the model got right or wrong, I'll see how its predictions differ for the two classes in the dataset."
   ]
  },
  {
   "cell_type": "markdown",
   "id": "2067875f-73e4-4abc-a17b-d32ce1faa986",
   "metadata": {},
   "source": [
    "Plot a confusion matrix that shows how my best model performs on my validation set.\n",
    "\n",
    "A confusion matrix is a table summarizing the performance of the model by enumerating true and false positives and the true and false negatives.\n",
    "\n",
    "\n"
   ]
  },
  {
   "cell_type": "code",
   "execution_count": 21,
   "id": "c0938e41-7836-4646-bb42-ded2e4a52662",
   "metadata": {},
   "outputs": [
    {
     "data": {
      "image/png": "[encoded data removed]",
      "text/plain": [
       "<Figure size 432x288 with 2 Axes>"
      ]
     },
     "metadata": {
      "needs_background": "light"
     },
     "output_type": "display_data"
    }
   ],
   "source": [
    "# Plot confusion matrix\n",
    "ConfusionMatrixDisplay.from_estimator(model_reg,X_test,y_test);"
   ]
  },
  {
   "cell_type": "markdown",
   "id": "b649967e-fc51-4f7d-9413-21bb50c3dd1a",
   "metadata": {},
   "source": [
    "Now I'll Determine the depth of the decision tree in model_over, since its my best performing model."
   ]
  },
  {
   "cell_type": "code",
   "execution_count": 22,
   "id": "2f181168-4c7a-44bd-aed3-ac33da2ce46d",
   "metadata": {},
   "outputs": [
    {
     "name": "stdout",
     "output_type": "stream",
     "text": [
      "46\n"
     ]
    }
   ],
   "source": [
    "depth = model_over[\"decisiontreeclassifier\"].get_depth()\n",
    "print(depth)"
   ]
  },
  {
   "cell_type": "markdown",
   "id": "5ab91cfe-1931-40b6-a005-7ce259d896d0",
   "metadata": {},
   "source": [
    "# Communicate"
   ]
  },
  {
   "cell_type": "markdown",
   "id": "5253d9af-85c0-46cb-9eef-38dee1bb5771",
   "metadata": {},
   "source": [
    "Now that we have a reasonable model, I'll graph the importance of each feature."
   ]
  },
  {
   "cell_type": "markdown",
   "id": "c5955ab7-847e-4e56-a656-85ca339da6d6",
   "metadata": {},
   "source": [
    "Now I'll Create a horizontal bar chart with the 15 most important features for model_over."
   ]
  },
  {
   "cell_type": "code",
   "execution_count": 23,
   "id": "cf5e83ed-ba83-42b9-b12d-5baa3614d04b",
   "metadata": {},
   "outputs": [
    {
     "data": {
      "image/png": "[encoded data removed]",
      "text/plain": [
       "<Figure size 432x288 with 1 Axes>"
      ]
     },
     "metadata": {
      "needs_background": "light"
     },
     "output_type": "display_data"
    }
   ],
   "source": [
    "# Get importances\n",
    "importances = model_over[\"decisiontreeclassifier\"].feature_importances_\n",
    "\n",
    "# Put importances into a Series\n",
    "feat_imp = pd.Series(importances,index=X_train_over.columns).sort_values()\n",
    "\n",
    "# Plot series\n",
    "feat_imp.tail(15).plot(kind=\"barh\")\n",
    "plt.xlabel(\"Gini Importance\")\n",
    "plt.ylabel(\"Feature\")\n",
    "plt.title(\"model_over Feature Importance\");"
   ]
  },
  {
   "cell_type": "markdown",
   "id": "1b53facf-c208-40e1-abb6-fd6624c49f8c",
   "metadata": {},
   "source": [
    "It can be seen from the visualization that feat_86 is our most important feature followed by feat_36 aand feat_40 respectively."
   ]
  },
  {
   "cell_type": "markdown",
   "id": "240bcb23-2e2b-455c-868e-cd00f87159a8",
   "metadata": {},
   "source": [
    "Finally Using a context manager, I'll save my best-performing model to a a file named \"model-Decision-Tree.pkl\""
   ]
  },
  {
   "cell_type": "code",
   "execution_count": 27,
   "id": "506e147f-5193-4353-af15-2e447f5eaadf",
   "metadata": {},
   "outputs": [],
   "source": [
    "# Save your model as `\"model-Decision-Tree.pkl\"`\n",
    "with open(\"model-Decision-Tree.pkl\",\"wb\") as f:\n",
    "    pickle.dump(model_over,f)"
   ]
  }
 ],
 "metadata": {
  "kernelspec": {
   "display_name": "Python 3",
   "language": "python",
   "name": "python3"
  },
  "language_info": {
   "codemirror_mode": {
    "name": "ipython",
    "version": 3
   },
   "file_extension": ".py",
   "mimetype": "text/x-python",
   "name": "python",
   "nbconvert_exporter": "python",
   "pygments_lexer": "ipython3",
   "version": "3.8.16"
  }
 },
 "nbformat": 4,
 "nbformat_minor": 5
}
