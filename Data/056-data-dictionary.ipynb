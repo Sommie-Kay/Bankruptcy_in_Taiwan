{
 "cells": [
  {
   "cell_type": "markdown",
   "id": "e1ffc369-83de-4389-83c5-a4dafdd69bf0",
   "metadata": {
    "deletable": false,
    "editable": false
   },
   "source": [
    "# Taiwan Bankruptcy Dataset"
   ]
  },
  {
   "cell_type": "markdown",
   "id": "ec7c3c3c-d656-427d-a0eb-a795ed3e22b8",
   "metadata": {
    "deletable": false,
    "editable": false
   },
   "source": [
    "Below is a summary of the features from the [Taiwan bankruptcy dataset](https://archive.ics.uci.edu/ml/datasets/Taiwanese+Bankruptcy+Prediction). \n",
    "\n",
    "**Note:** All of the variables have been normalized into the range from 0 to 1.<span style='color: transparent; font-size:1%'>WQU WorldQuant University Applied Data Science Lab QQQQ</span>"
   ]
  },
  {
   "cell_type": "markdown",
   "id": "1f2362d9-a1d1-4370-af0c-f1fab528ca02",
   "metadata": {
    "deletable": false,
    "editable": false
   },
   "source": [
    "| feature      | description                                             |\n",
    "| :----------- | :------------------------------------------------------ |\n",
    "| **bankrupt** | Whether or not company has gone bankrupt                |\n",
    "| **feat_1**   | ROA(C) before interest and depreciation before interest |\n",
    "| **feat_2**   | ROA(A) before interest and % after tax                  |\n",
    "| **feat_3**   | ROA(B) before interest and depreciation after tax       |\n",
    "| **feat_4**   | Operating Gross Margin                                  |\n",
    "| **feat_5**   | Realized Sales Gross Margin                             |\n",
    "| **feat_6**   | Operating Profit Rate                                   |\n",
    "| **feat_7**   | Pre-tax net Interest Rate                               |\n",
    "| **feat_8**   | After-tax net Interest Rate                             |\n",
    "| **feat_9**   | Non-industry income and expenditure/revenue             |\n",
    "| **feat_10**  | Continuous interest rate (after tax)                    |\n",
    "| **feat_11**  | Operating Expense Rate                                  |\n",
    "| **feat_12**  | Research and development expense rate                   |\n",
    "| **feat_13**  | Cash flow rate                                          |\n",
    "| **feat_14**  | Interest-bearing debt interest rate                     |\n",
    "| **feat_15**  | Tax rate (A)                                            |\n",
    "| **feat_16**  | Net Value Per Share (B)                                 |\n",
    "| **feat_17**  | Net Value Per Share (A)                                 |\n",
    "| **feat_18**  | Net Value Per Share (C)                                 |\n",
    "| **feat_19**  | Persistent EPS in the Last Four Seasons                 |\n",
    "| **feat_20**  | Cash Flow Per Share                                     |\n",
    "| **feat_21**  | Revenue Per Share (Yuan ¥)                              |\n",
    "| **feat_22**  | Operating Profit Per Share (Yuan ¥)                     |\n",
    "| **feat_23**  | Per Share Net profit before tax (Yuan ¥)                |\n",
    "| **feat_24**  | Realized Sales Gross Profit Growth Rate                 |\n",
    "| **feat_25**  | Operating Profit Growth Rate                            |\n",
    "| **feat_26**  | After-tax Net Profit Growth Rate                        |\n",
    "| **feat_27**  | Regular Net Profit Growth Rate                          |\n",
    "| **feat_28**  | Continuous Net Profit Growth Rate                       |\n",
    "| **feat_29**  | Total Asset Growth Rate                                 |\n",
    "| **feat_30**  | Net Value Growth Rate                                   |\n",
    "| **feat_31**  | Total Asset Return Growth Rate Ratio                    |\n",
    "| **feat_32**  | Cash Reinvestment %                                     |\n",
    "| **feat_33**  | Current Ratio                                           |\n",
    "| **feat_34**  | Quick Ratio                                             |\n",
    "| **feat_35**  | Interest Expense Ratio                                  |\n",
    "| **feat_36**  | Total debt/Total net worth                              |\n",
    "| **feat_37**  | Debt ratio %                                            |\n",
    "| **feat_38**  | Net worth/Assets                                        |\n",
    "| **feat_39**  | Long-term fund suitability ratio (A)                    |\n",
    "| **feat_40**  | Borrowing dependency                                    |\n",
    "| **feat_41**  | Contingent liabilities/Net worth                        |\n",
    "| **feat_42**  | Operating profit/Paid-in capital                        |\n",
    "| **feat_43**  | Net profit before tax/Paid-in capital                   |\n",
    "| **feat_44**  | Inventory and accounts receivable/Net value             |\n",
    "| **feat_45**  | Total Asset Turnover                                    |\n",
    "| **feat_46**  | Accounts Receivable Turnover                            |\n",
    "| **feat_47**  | Average Collection Days                                 |\n",
    "| **feat_48**  | Inventory Turnover Rate (times)                         |\n",
    "| **feat_49**  | Fixed Assets Turnover Frequency                         |\n",
    "| **feat_50**  | Net Worth Turnover Rate (times)                         |\n",
    "| **feat_51**  | Revenue per person                                      |\n",
    "| **feat_52**  | Operating profit per person                             |\n",
    "| **feat_53**  | Allocation rate per person                              |\n",
    "| **feat_54**  | Working Capital to Total Assets                         |\n",
    "| **feat_55**  | Quick Assets/Total Assets                               |\n",
    "| **feat_56**  | Current Assets/Total Assets                             |\n",
    "| **feat_57**  | Cash/Total Assets                                       |\n",
    "| **feat_58**  | Quick Assets/Current Liability                          |\n",
    "| **feat_59**  | Cash/Current Liability                                  |\n",
    "| **feat_60**  | Current Liability to Assets                             |\n",
    "| **feat_61**  | Operating Funds to Liability                            |\n",
    "| **feat_62**  | Inventory/Working Capital                               |\n",
    "| **feat_63**  | Inventory/Current Liability                             |\n",
    "| **feat_64**  | Current Liabilities/Liability                           |\n",
    "| **feat_65**  | Working Capital/Equity                                  |\n",
    "| **feat_66**  | Current Liabilities/Equity                              |\n",
    "| **feat_67**  | Long-term Liability to Current Assets                   |\n",
    "| **feat_68**  | Retained Earnings to Total Assets                       |\n",
    "| **feat_69**  | Total income/Total expense                              |\n",
    "| **feat_70**  | Total expense/Assets                                    |\n",
    "| **feat_71**  | Current Asset Turnover Rate                             |\n",
    "| **feat_72**  | Quick Asset Turnover Rate                               |\n",
    "| **feat_73**  | Working Capital Turnover Rate                           |\n",
    "| **feat_74**  | Cash Turnover Rate                                      |\n",
    "| **feat_75**  | Cash Flow to Sales                                      |\n",
    "| **feat_76**  | Fixed Assets to Assets                                  |\n",
    "| **feat_77**  | Current Liability to Liability                          |\n",
    "| **feat_78**  | Current Liability to Equity                             |\n",
    "| **feat_79**  | Equity to Long-term Liability                           |\n",
    "| **feat_80**  | Cash Flow to Total Assets                               |\n",
    "| **feat_81**  | Cash Flow to Liability                                  |\n",
    "| **feat_82**  | CFO to Assets                                           |\n",
    "| **feat_83**  | Cash Flow to Equity                                     |\n",
    "| **feat_84**  | Current Liability to Current Assets                     |\n",
    "| **feat_85**  | Liability-Assets Flag                                   |\n",
    "| **feat_86**  | Net Income to Total Assets                              |\n",
    "| **feat_87**  | Total assets to GNP price                               |\n",
    "| **feat_88**  | No-credit Interval                                      |\n",
    "| **feat_89**  | Gross Profit to Sales                                   |\n",
    "| **feat_90**  | Net Income to Stockholder's Equity                      |\n",
    "| **feat_91**  | Liability to Equity                                     |\n",
    "| **feat_92**  | Degree of Financial Leverage (DFL)                      |\n",
    "| **feat_93**  | Interest Coverage Ratio (Interest expense to EBIT)      |\n",
    "| **feat_94**  | Net Income Flag                                         |\n",
    "| **feat_95**  | Equity to Liability                                     |\n"
   ]
  }
 ],
 "metadata": {
  "kernelspec": {
   "display_name": "Python 3",
   "language": "python",
   "name": "python3"
  },
  "language_info": {
   "codemirror_mode": {
    "name": "ipython",
    "version": 3
   },
   "file_extension": ".py",
   "mimetype": "text/x-python",
   "name": "python",
   "nbconvert_exporter": "python",
   "pygments_lexer": "ipython3",
   "version": "3.8.16"
  }
 },
 "nbformat": 4,
 "nbformat_minor": 5
}
